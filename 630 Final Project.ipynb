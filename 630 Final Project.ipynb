{
 "cells": [
  {
   "cell_type": "code",
   "execution_count": 1,
   "metadata": {},
   "outputs": [
    {
     "name": "stderr",
     "output_type": "stream",
     "text": [
      "F:\\Programs\\Anaconda\\lib\\site-packages\\sklearn\\ensemble\\weight_boosting.py:29: DeprecationWarning: numpy.core.umath_tests is an internal NumPy module and should not be imported. It will be removed in a future NumPy release.\n",
      "  from numpy.core.umath_tests import inner1d\n",
      "F:\\Programs\\Anaconda\\lib\\site-packages\\gensim\\utils.py:1197: UserWarning: detected Windows; aliasing chunkize to chunkize_serial\n",
      "  warnings.warn(\"detected Windows; aliasing chunkize to chunkize_serial\")\n",
      "Using TensorFlow backend.\n",
      "F:\\Programs\\Anaconda\\lib\\site-packages\\tensorflow\\python\\util\\tf_inspect.py:75: DeprecationWarning: inspect.getargspec() is deprecated, use inspect.signature() or inspect.getfullargspec()\n",
      "  return _inspect.getargspec(target)\n",
      "F:\\Programs\\Anaconda\\lib\\site-packages\\tensorflow\\python\\util\\tf_inspect.py:75: DeprecationWarning: inspect.getargspec() is deprecated, use inspect.signature() or inspect.getfullargspec()\n",
      "  return _inspect.getargspec(target)\n"
     ]
    }
   ],
   "source": [
    "import json, re, math, random\n",
    "import pandas as pd\n",
    "import numpy as np\n",
    "import seaborn as sns\n",
    "\n",
    "import nltk\n",
    "from nltk import tokenize\n",
    "from nltk.stem.porter import PorterStemmer\n",
    "\n",
    "from sklearn import naive_bayes, svm\n",
    "from sklearn.ensemble import BaggingClassifier\n",
    "from sklearn.feature_extraction.text import TfidfVectorizer\n",
    "from sklearn.model_selection import train_test_split\n",
    "from sklearn.multiclass import OneVsRestClassifier\n",
    "from sklearn.preprocessing import MultiLabelBinarizer\n",
    "\n",
    "import gensim\n",
    "import gensim.corpora as corpora\n",
    "from gensim.utils import simple_preprocess\n",
    "from gensim.models import CoherenceModel\n",
    "\n",
    "import pyLDAvis\n",
    "import pyLDAvis.gensim\n",
    "\n",
    "from keras.preprocessing.text import Tokenizer, text_to_word_sequence\n",
    "from keras.preprocessing.sequence import pad_sequences\n",
    "from keras.models import Sequential, load_model\n",
    "from keras.layers import Dense, Activation, Embedding, Flatten, GlobalMaxPool1D, MaxPool1D, Dropout, Conv1D, SpatialDropout1D, LSTM, Bidirectional\n",
    "from keras.callbacks import ReduceLROnPlateau, EarlyStopping, ModelCheckpoint\n",
    "from keras.losses import binary_crossentropy\n",
    "from keras.optimizers import Adam\n",
    "from keras.utils import plot_model\n",
    "\n",
    "from keras.layers import Input, TimeDistributed\n",
    "from keras.models import Model\n",
    "\n",
    "import seaborn as sns\n",
    "import matplotlib.pyplot as plt\n",
    "%matplotlib inline\n",
    "\n",
    "import warnings\n",
    "warnings.filterwarnings(\"ignore\")"
   ]
  },
  {
   "cell_type": "markdown",
   "metadata": {},
   "source": [
    "# Data Import\n",
    "\n",
    "The data is composed of two files: plot_summaries.txt, which contains the plaintext summary with an index, and movie_metadata.tsv, which contains the genre listing (along with other data). We combine these two files and save only the summaries and plot info."
   ]
  },
  {
   "cell_type": "code",
   "execution_count": 31,
   "metadata": {},
   "outputs": [
    {
     "data": {
      "text/html": [
       "<div>\n",
       "<style scoped>\n",
       "    .dataframe tbody tr th:only-of-type {\n",
       "        vertical-align: middle;\n",
       "    }\n",
       "\n",
       "    .dataframe tbody tr th {\n",
       "        vertical-align: top;\n",
       "    }\n",
       "\n",
       "    .dataframe thead th {\n",
       "        text-align: right;\n",
       "    }\n",
       "</style>\n",
       "<table border=\"1\" class=\"dataframe\">\n",
       "  <thead>\n",
       "    <tr style=\"text-align: right;\">\n",
       "      <th></th>\n",
       "      <th>plot_summary</th>\n",
       "    </tr>\n",
       "  </thead>\n",
       "  <tbody>\n",
       "    <tr>\n",
       "      <th>7556999</th>\n",
       "      <td>An American boy, Cody , whose parents have die...</td>\n",
       "    </tr>\n",
       "    <tr>\n",
       "      <th>940106</th>\n",
       "      <td>Chuck , an uptight college student in Los Ange...</td>\n",
       "    </tr>\n",
       "  </tbody>\n",
       "</table>\n",
       "</div>"
      ],
      "text/plain": [
       "                                              plot_summary\n",
       "7556999  An American boy, Cody , whose parents have die...\n",
       "940106   Chuck , an uptight college student in Los Ange..."
      ]
     },
     "execution_count": 31,
     "metadata": {},
     "output_type": "execute_result"
    }
   ],
   "source": [
    "summaries = {}\n",
    "with open(\"plot_summaries.txt\", encoding='utf8') as f:\n",
    "    for line in f.readlines():\n",
    "        s = line.split('\\t')\n",
    "        summaries[s[0]] = s[1].strip()\n",
    "summaries_df = pd.DataFrame([summaries], columns=summaries.keys()).transpose()\n",
    "summaries_df.columns = [\"plot_summary\"]\n",
    "summaries_df.index = summaries_df.index.astype(\"int64\") # recast the index to int\n",
    "\n",
    "summaries_df.sample(2)"
   ]
  },
  {
   "cell_type": "code",
   "execution_count": 46,
   "metadata": {},
   "outputs": [
    {
     "data": {
      "text/html": [
       "<div>\n",
       "<style scoped>\n",
       "    .dataframe tbody tr th:only-of-type {\n",
       "        vertical-align: middle;\n",
       "    }\n",
       "\n",
       "    .dataframe tbody tr th {\n",
       "        vertical-align: top;\n",
       "    }\n",
       "\n",
       "    .dataframe thead th {\n",
       "        text-align: right;\n",
       "    }\n",
       "</style>\n",
       "<table border=\"1\" class=\"dataframe\">\n",
       "  <thead>\n",
       "    <tr style=\"text-align: right;\">\n",
       "      <th></th>\n",
       "      <th>freebase_id</th>\n",
       "      <th>name</th>\n",
       "      <th>release</th>\n",
       "      <th>revenue</th>\n",
       "      <th>runtime</th>\n",
       "      <th>languages</th>\n",
       "      <th>countries</th>\n",
       "      <th>genres</th>\n",
       "    </tr>\n",
       "    <tr>\n",
       "      <th>wikipedia_id</th>\n",
       "      <th></th>\n",
       "      <th></th>\n",
       "      <th></th>\n",
       "      <th></th>\n",
       "      <th></th>\n",
       "      <th></th>\n",
       "      <th></th>\n",
       "      <th></th>\n",
       "    </tr>\n",
       "  </thead>\n",
       "  <tbody>\n",
       "    <tr>\n",
       "      <th>13021375</th>\n",
       "      <td>/m/02z3p78</td>\n",
       "      <td>The King of the Kitchen</td>\n",
       "      <td>1918-10-30</td>\n",
       "      <td>NaN</td>\n",
       "      <td>NaN</td>\n",
       "      <td>{\"/m/02h40lc\": \"English Language\"}</td>\n",
       "      <td>{\"/m/09c7w0\": \"United States of America\"}</td>\n",
       "      <td>[Short Film, Silent film, Indie, Black-and-white]</td>\n",
       "    </tr>\n",
       "    <tr>\n",
       "      <th>34443947</th>\n",
       "      <td>/m/0gd2893</td>\n",
       "      <td>A Royal Affair</td>\n",
       "      <td>2012-03-29</td>\n",
       "      <td>NaN</td>\n",
       "      <td>128.0</td>\n",
       "      <td>{\"/m/04306rv\": \"German Language\", \"/m/02h40lc\"...</td>\n",
       "      <td>{\"/m/01mjq\": \"Czech Republic\", \"/m/0k6nt\": \"De...</td>\n",
       "      <td>[Historical Documentaries, Romance Film, Drama...</td>\n",
       "    </tr>\n",
       "    <tr>\n",
       "      <th>26251984</th>\n",
       "      <td>/m/0b74q96</td>\n",
       "      <td>Men Don't Lie</td>\n",
       "      <td>NaN</td>\n",
       "      <td>NaN</td>\n",
       "      <td>NaN</td>\n",
       "      <td>{}</td>\n",
       "      <td>{\"/m/0f8l9c\": \"France\", \"/m/06mzp\": \"Switzerla...</td>\n",
       "      <td>[Drama]</td>\n",
       "    </tr>\n",
       "    <tr>\n",
       "      <th>6506680</th>\n",
       "      <td>/m/0g7_9s</td>\n",
       "      <td>Crows and Sparrows</td>\n",
       "      <td>1949</td>\n",
       "      <td>NaN</td>\n",
       "      <td>113.0</td>\n",
       "      <td>{\"/m/0653m\": \"Standard Mandarin\"}</td>\n",
       "      <td>{\"/m/0d05w3\": \"China\"}</td>\n",
       "      <td>[Drama, Chinese Movies, Black-and-white]</td>\n",
       "    </tr>\n",
       "    <tr>\n",
       "      <th>34597215</th>\n",
       "      <td>/m/0j270jm</td>\n",
       "      <td>A Homansu</td>\n",
       "      <td>1986-10-10</td>\n",
       "      <td>NaN</td>\n",
       "      <td>99.0</td>\n",
       "      <td>{\"/m/03_9r\": \"Japanese Language\"}</td>\n",
       "      <td>{\"/m/03_3d\": \"Japan\"}</td>\n",
       "      <td>[]</td>\n",
       "    </tr>\n",
       "  </tbody>\n",
       "</table>\n",
       "</div>"
      ],
      "text/plain": [
       "             freebase_id                     name     release  revenue  \\\n",
       "wikipedia_id                                                             \n",
       "13021375      /m/02z3p78  The King of the Kitchen  1918-10-30      NaN   \n",
       "34443947      /m/0gd2893           A Royal Affair  2012-03-29      NaN   \n",
       "26251984      /m/0b74q96            Men Don't Lie         NaN      NaN   \n",
       "6506680        /m/0g7_9s       Crows and Sparrows        1949      NaN   \n",
       "34597215      /m/0j270jm                A Homansu  1986-10-10      NaN   \n",
       "\n",
       "              runtime                                          languages  \\\n",
       "wikipedia_id                                                               \n",
       "13021375          NaN                 {\"/m/02h40lc\": \"English Language\"}   \n",
       "34443947        128.0  {\"/m/04306rv\": \"German Language\", \"/m/02h40lc\"...   \n",
       "26251984          NaN                                                 {}   \n",
       "6506680         113.0                  {\"/m/0653m\": \"Standard Mandarin\"}   \n",
       "34597215         99.0                  {\"/m/03_9r\": \"Japanese Language\"}   \n",
       "\n",
       "                                                      countries  \\\n",
       "wikipedia_id                                                      \n",
       "13021375              {\"/m/09c7w0\": \"United States of America\"}   \n",
       "34443947      {\"/m/01mjq\": \"Czech Republic\", \"/m/0k6nt\": \"De...   \n",
       "26251984      {\"/m/0f8l9c\": \"France\", \"/m/06mzp\": \"Switzerla...   \n",
       "6506680                                  {\"/m/0d05w3\": \"China\"}   \n",
       "34597215                                  {\"/m/03_3d\": \"Japan\"}   \n",
       "\n",
       "                                                         genres  \n",
       "wikipedia_id                                                     \n",
       "13021375      [Short Film, Silent film, Indie, Black-and-white]  \n",
       "34443947      [Historical Documentaries, Romance Film, Drama...  \n",
       "26251984                                                [Drama]  \n",
       "6506680                [Drama, Chinese Movies, Black-and-white]  \n",
       "34597215                                                     []  "
      ]
     },
     "execution_count": 46,
     "metadata": {},
     "output_type": "execute_result"
    }
   ],
   "source": [
    "meta_data = pd.read_csv(\"movie.metadata.tsv\", sep='\\t', header=None)\n",
    "meta_data.columns = [\"wikipedia_id\", \"freebase_id\", \"name\", \"release\", \"revenue\", \"runtime\", \"languages\", \"countries\", \"genres\"]\n",
    "meta_data.set_index(\"wikipedia_id\", inplace=True)\n",
    "\n",
    "#parse the genres from json\n",
    "meta_data.genres = meta_data.genres.apply(lambda x: list(json.loads(x).values()))\n",
    "meta_data.sample(5)"
   ]
  },
  {
   "cell_type": "code",
   "execution_count": 33,
   "metadata": {},
   "outputs": [
    {
     "data": {
      "text/html": [
       "<div>\n",
       "<style scoped>\n",
       "    .dataframe tbody tr th:only-of-type {\n",
       "        vertical-align: middle;\n",
       "    }\n",
       "\n",
       "    .dataframe tbody tr th {\n",
       "        vertical-align: top;\n",
       "    }\n",
       "\n",
       "    .dataframe thead th {\n",
       "        text-align: right;\n",
       "    }\n",
       "</style>\n",
       "<table border=\"1\" class=\"dataframe\">\n",
       "  <thead>\n",
       "    <tr style=\"text-align: right;\">\n",
       "      <th></th>\n",
       "      <th>name</th>\n",
       "      <th>plot_summary</th>\n",
       "      <th>genres</th>\n",
       "    </tr>\n",
       "  </thead>\n",
       "  <tbody>\n",
       "    <tr>\n",
       "      <th>31270807</th>\n",
       "      <td>China: The Roots of Madness</td>\n",
       "      <td>White referred to Empress Dowager Cixi as \"Chi...</td>\n",
       "      <td>[Documentary]</td>\n",
       "    </tr>\n",
       "    <tr>\n",
       "      <th>27902570</th>\n",
       "      <td>Five Hours from Paris</td>\n",
       "      <td>Yigal is a taxi driver with a burning desire t...</td>\n",
       "      <td>[Romantic drama, Romance Film, Drama, World ci...</td>\n",
       "    </tr>\n",
       "    <tr>\n",
       "      <th>25016098</th>\n",
       "      <td>U Me Aur Hum</td>\n",
       "      <td>{{polt}} The movie starts with Ajay  telling h...</td>\n",
       "      <td>[World cinema, Musical, Drama, Romantic drama,...</td>\n",
       "    </tr>\n",
       "    <tr>\n",
       "      <th>33089019</th>\n",
       "      <td>Escapade romaine</td>\n",
       "      <td>French filmmaker Jérémie Carboni followed Fren...</td>\n",
       "      <td>[Short Film, Documentary]</td>\n",
       "    </tr>\n",
       "    <tr>\n",
       "      <th>32047926</th>\n",
       "      <td>Snowblind</td>\n",
       "      <td>A Post-Apocalyptic Spaghetti Western. Governor...</td>\n",
       "      <td>[Indie]</td>\n",
       "    </tr>\n",
       "  </tbody>\n",
       "</table>\n",
       "</div>"
      ],
      "text/plain": [
       "                                 name  \\\n",
       "31270807  China: The Roots of Madness   \n",
       "27902570        Five Hours from Paris   \n",
       "25016098                 U Me Aur Hum   \n",
       "33089019             Escapade romaine   \n",
       "32047926                    Snowblind   \n",
       "\n",
       "                                               plot_summary  \\\n",
       "31270807  White referred to Empress Dowager Cixi as \"Chi...   \n",
       "27902570  Yigal is a taxi driver with a burning desire t...   \n",
       "25016098  {{polt}} The movie starts with Ajay  telling h...   \n",
       "33089019  French filmmaker Jérémie Carboni followed Fren...   \n",
       "32047926  A Post-Apocalyptic Spaghetti Western. Governor...   \n",
       "\n",
       "                                                     genres  \n",
       "31270807                                      [Documentary]  \n",
       "27902570  [Romantic drama, Romance Film, Drama, World ci...  \n",
       "25016098  [World cinema, Musical, Drama, Romantic drama,...  \n",
       "33089019                          [Short Film, Documentary]  \n",
       "32047926                                            [Indie]  "
      ]
     },
     "execution_count": 33,
     "metadata": {},
     "output_type": "execute_result"
    }
   ],
   "source": [
    "movies_df = summaries_df.merge(meta_data, left_index=True, right_index=True)[['name', 'plot_summary', 'genres']]\n",
    "%xdel summaries_df\n",
    "%xdel meta_data\n",
    "movies_df.sample(5)"
   ]
  },
  {
   "cell_type": "markdown",
   "metadata": {},
   "source": [
    "# Data Cleaning\n",
    "The plot summary texts are a little messy"
   ]
  },
  {
   "cell_type": "code",
   "execution_count": 34,
   "metadata": {},
   "outputs": [
    {
     "name": "stdout",
     "output_type": "stream",
     "text": [
      "Wall time: 1.22 s\n"
     ]
    }
   ],
   "source": [
    "%%time\n",
    "# There are some html type artifacts left in some of the plots - regex them out\n",
    "movies_df['plot_summary'] = movies_df['plot_summary'].apply(lambda x: re.sub(r\"{{.*?}}|<.*?}}|{{.*?>\", '', x))"
   ]
  },
  {
   "cell_type": "code",
   "execution_count": 41,
   "metadata": {},
   "outputs": [
    {
     "name": "stdout",
     "output_type": "stream",
     "text": [
      "Wall time: 16min 9s\n"
     ]
    }
   ],
   "source": [
    "%%time\n",
    "# remove all proper nouns and tokenize. Join on spaces so we can get individual tokens back quickly if we want\n",
    "movies_df['plot_summary'] = movies_df['plot_summary'].apply(lambda x: ' '.join(['NNP' if token[1]=='NNP' else token[0] for token in nltk.pos_tag(nltk.word_tokenize(x))]))"
   ]
  },
  {
   "cell_type": "code",
   "execution_count": 69,
   "metadata": {},
   "outputs": [
    {
     "data": {
      "text/plain": [
       "\"Five years after the events of The NNP and the NNP , NNP NNP and his new crew , NNP `` NNP '' NNP , NNP `` NNP '' , NNP NNP , NNP NNP and NNP NNP , are hijacking fuel tankers in the NNP NNP . NNP begins to suspect the trail is too hot and leaves NNP behind in order to protect her from harm . Several weeks later , in NNP NNP , NNP gets a call from NNP , who tells him that NNP has been murdered by NNP NNP , after getting into a near fatal car accident . NNP heads back to NNP NNP to examine NNP 's crash and finds traces of nitromethane . He then goes to the only car mechanic that uses nitromethane and coerces him into giving him the name NNP NNP , the man who ordered the fuel . Meanwhile , NNP . agent NNP NNP is trying to track down a drug dealer named NNP NNP . His search leads him to NNP NNP . NNP arrives at NNP 's apartment first and hangs him out of the window by his ankles before letting go . NNP , who was also on his way to NNP 's place , saves NNP and NNP becomes the NNP 's new informant . NNP gets NNP into a street race through NNP NNP . NNP selects a modified NNP NNP NNP NNP from the NNP NNP . NNP also shows up to race in his modified 1970 NNP NNP . NNP NNP , the liaison for NNP , reveals that the winner will become the last driver on a team that traffics heroin between the NNP States border . Dominic wins by bumping NNP 's car , making him lose control . Brian uses his power as an NNP agent to arrest another driver , NNP NNP , and takes his place on the team . The following day , the team meets one of the NNP 's men . They drive across the border using underground tunnels to avoid detection . NNP had prior knowledge that , after the heroin was delivered , NNP ordered the drivers to be killed . However it was revealed to NNP from NNP that he killed NNP and after a tense stand-off , NNP detonates his car with nitrous to distract NNP 's men and NNP hijacks a NNP with $ 60 million worth of heroin . Both NNP and NNP drive back to NNP NNP and hide the heroin in a police impound lot where Brian picks up a modified NNP NNP NNP NNP . NNP on , NNP finds out NNP was the last person to contact NNP , which results in him being attacked by NNP until he learns NNP was working undercover for NNP , tracking down NNP in exchange for clearing NNP 's name . NNP tells his superiors that in exchange for NNP 's pardon , he will lure NNP into a trap , forcing him to personally show up to exchange money for the heroin . At the drop site , however , NNP NNP , the man who claims to be `` NNP '' , is revealed as a decoy , and `` NNP '' , the real NNP , escapes and flees to NNP . NNP and NNP travel to NNP on their own to catch NNP . They find him at a church and apprehend him . As NNP 's henchmen come down to rescue their leader , NNP and NNP drive through the underground tunnels back to the NNP States . When some of NNP 's men are killed , Brian crashes his car and is injured after being T-boned by NNP at the end of the tunnel . Before NNP can kill NNP , NNP , who survived the explosion and exchanged his 1970 NNP NNP with a 1973 NNP NNP , drives into and kills NNP . As police and helicopters start streaming to the crash site on the NNP side , NNP tells NNP to leave , but NNP refuses , saying he 's tired of running . Despite NNP 's request for clemency , the judge sentences NNP to 25 years to life . NNP boards a prison bus that will take him to NNP penitentiary and as the bus drives down the road , NNP and NNP , along with NNP and NNP , arrive in their cars to intercept it .\""
      ]
     },
     "execution_count": 69,
     "metadata": {},
     "output_type": "execute_result"
    }
   ],
   "source": [
    "movies_df.sample()['plot_summary'].values[0]"
   ]
  },
  {
   "cell_type": "markdown",
   "metadata": {},
   "source": [
    "# Consolidate Genre Labels\n",
    "There's over 300 distinct genres in the dataset, so we need to filter them down to a smaller subset of genres."
   ]
  },
  {
   "cell_type": "code",
   "execution_count": 51,
   "metadata": {},
   "outputs": [
    {
     "name": "stdout",
     "output_type": "stream",
     "text": [
      "10000 of 40907\n",
      "20000 of 40907\n",
      "30000 of 40907\n",
      "40000 of 40907\n",
      "40907 of 40907\n"
     ]
    }
   ],
   "source": [
    "#initialize the assigned genre column with nans\n",
    "movies_df['assigned_genres'] = ''\n",
    "\n",
    "count=0\n",
    "for i,movie in movies_df.iterrows():\n",
    "    assigned = []\n",
    "    for genre in movie.genres:\n",
    "        if \"drama\" in genre.lower() or genre in ['Period piece', 'Epic']:\n",
    "            assigned.append(\"Drama\")\n",
    "        if \"comedy\" in genre.lower():\n",
    "            assigned.append(\"Comedy\")\n",
    "        if \"roman\" in genre.lower() or genre in ['']:\n",
    "            assigned.append(\"Romance\")\n",
    "        if \"action\" in genre.lower() or genre in [\"Samurai cinema\", \"War film\"]:\n",
    "            assigned.append(\"Action\")\n",
    "        if \"thrill\" in genre.lower():\n",
    "            assigned.append(\"Thriller\")\n",
    "        if genre in [\"Indie\", \"Short Film\", \"Art film\"]:\n",
    "            assigned.append(\"Indie\")\n",
    "        if \"docu\" in genre.lower():\n",
    "            assigned.append(\"Documentary\")\n",
    "        if \"horror\" in genre.lower():\n",
    "            assigned.append(\"Horror\")\n",
    "        if \"adven\" in genre.lower():\n",
    "            assigned.append(\"Adventure\")\n",
    "        if \"family\" in genre.lower() or \"children\" in genre.lower():\n",
    "            assigned.append(\"Family\") # animation\n",
    "        if \"music\" in genre.lower():\n",
    "            assigned.append(\"Musical\")\n",
    "        if \"mystery\" in genre.lower():\n",
    "            assigned.append(\"Mystery\")\n",
    "        if \"sci\" in genre.lower() or genre in [\"Monster movie\"]:\n",
    "            assigned.append(\"Science Fiction\")\n",
    "        if \"fantasy\" in genre.lower():\n",
    "            assigned.append(\"Fantasy\")\n",
    "        if \"western\" in genre.lower():\n",
    "            assigned.append(\"Western\")\n",
    "        if genre in ['Bollywood', 'Chinese Movies', 'Japanese Movies', 'World cinema']:\n",
    "            assigned.append(\"World Cinema\")\n",
    "        if \"animat\" in genre.lower():\n",
    "            assigned.append(\"Animated\")\n",
    "        if \"teen\" in genre.lower():\n",
    "            assigned.append(\"Teen\")\n",
    "        \n",
    "    if len(assigned) > 0:\n",
    "        movies_df.at[i,'assigned_genres'] = list(set(assigned))\n",
    "    else:\n",
    "        movies_df.at[i,'assigned_genres'] = np.nan\n",
    "    \n",
    "    count+=1\n",
    "    if count %10000==0 or count==movies_df.shape[0]:\n",
    "        print(\"{} of {}\".format(count, movies_df.shape[0]))\n",
    "        \n",
    "# drop any films which haven't recieved a genre tag\n",
    "movies_df = movies_df[movies_df['assigned_genres'].notnull()]"
   ]
  },
  {
   "cell_type": "code",
   "execution_count": 52,
   "metadata": {},
   "outputs": [
    {
     "data": {
      "text/html": [
       "<div>\n",
       "<style scoped>\n",
       "    .dataframe tbody tr th:only-of-type {\n",
       "        vertical-align: middle;\n",
       "    }\n",
       "\n",
       "    .dataframe tbody tr th {\n",
       "        vertical-align: top;\n",
       "    }\n",
       "\n",
       "    .dataframe thead th {\n",
       "        text-align: right;\n",
       "    }\n",
       "</style>\n",
       "<table border=\"1\" class=\"dataframe\">\n",
       "  <thead>\n",
       "    <tr style=\"text-align: right;\">\n",
       "      <th></th>\n",
       "      <th>name</th>\n",
       "      <th>plot_summary</th>\n",
       "      <th>assigned_genres</th>\n",
       "    </tr>\n",
       "  </thead>\n",
       "  <tbody>\n",
       "    <tr>\n",
       "      <th>2125458</th>\n",
       "      <td>Blood and Sand</td>\n",
       "      <td>NNP NNP , a village boy born into poverty , gr...</td>\n",
       "      <td>Drama,Indie,Romance</td>\n",
       "    </tr>\n",
       "    <tr>\n",
       "      <th>31250146</th>\n",
       "      <td>Assassin for Hire</td>\n",
       "      <td>NNP NNP , a young British criminal of Italian ...</td>\n",
       "      <td>Mystery</td>\n",
       "    </tr>\n",
       "    <tr>\n",
       "      <th>3117366</th>\n",
       "      <td>The ChubbChubbs!</td>\n",
       "      <td>NNP , the janitor of an alien pub called the N...</td>\n",
       "      <td>Family,Animated,Comedy,Indie,Fantasy</td>\n",
       "    </tr>\n",
       "  </tbody>\n",
       "</table>\n",
       "</div>"
      ],
      "text/plain": [
       "                       name  \\\n",
       "2125458      Blood and Sand   \n",
       "31250146  Assassin for Hire   \n",
       "3117366    The ChubbChubbs!   \n",
       "\n",
       "                                               plot_summary  \\\n",
       "2125458   NNP NNP , a village boy born into poverty , gr...   \n",
       "31250146  NNP NNP , a young British criminal of Italian ...   \n",
       "3117366   NNP , the janitor of an alien pub called the N...   \n",
       "\n",
       "                               assigned_genres  \n",
       "2125458                    Drama,Indie,Romance  \n",
       "31250146                               Mystery  \n",
       "3117366   Family,Animated,Comedy,Indie,Fantasy  "
      ]
     },
     "execution_count": 52,
     "metadata": {},
     "output_type": "execute_result"
    }
   ],
   "source": [
    "movies_df.drop(columns=['genres'], inplace=True)\n",
    "movies_df['assigned_genres'] = movies_df['assigned_genres'].apply(lambda x: ','.join(x))\n",
    "movies_df.sample(3)"
   ]
  },
  {
   "cell_type": "code",
   "execution_count": 53,
   "metadata": {},
   "outputs": [],
   "source": [
    "# there are nine plot summaries that are blank. Remove them from the set\n",
    "movies_df = movies_df[movies_df['plot_summary'].apply(lambda x: len(x))!=0]"
   ]
  },
  {
   "cell_type": "code",
   "execution_count": 54,
   "metadata": {},
   "outputs": [],
   "source": [
    "# Save the dataframe at this point to save time in the future\n",
    "movies_df.to_csv(\"movies_cleaned.csv\")"
   ]
  },
  {
   "cell_type": "markdown",
   "metadata": {},
   "source": [
    "# Data Exploration"
   ]
  },
  {
   "cell_type": "code",
   "execution_count": 55,
   "metadata": {},
   "outputs": [],
   "source": [
    "movies_df = pd.read_csv(\"movies_cleaned.csv\", index_col=0)"
   ]
  },
  {
   "cell_type": "code",
   "execution_count": 56,
   "metadata": {},
   "outputs": [],
   "source": [
    "# counts for each movie genre\n",
    "counts = {}\n",
    "for x in movies_df.assigned_genres.values:\n",
    "    for genre in x.split(','):\n",
    "        if genre in counts:\n",
    "            counts[genre] += 1\n",
    "        else:\n",
    "            counts[genre] = 1\n",
    "genre_count = pd.DataFrame(sorted(counts.items(), key=lambda kv: kv[1], reverse=True))\n",
    "genre_count.columns = ['Genre', 'Count']"
   ]
  },
  {
   "cell_type": "code",
   "execution_count": 57,
   "metadata": {},
   "outputs": [
    {
     "data": {
      "image/png": "[encoded data removed]",
      "text/plain": [
       "<Figure size 1152x576 with 1 Axes>"
      ]
     },
     "metadata": {},
     "output_type": "display_data"
    }
   ],
   "source": [
    "fig, ax = plt.subplots()\n",
    "fig.set_size_inches(16,8)\n",
    "g = sns.barplot(genre_count.Count, genre_count.Genre, palette=\"Blues_d\", orient='h', ax=ax)\n",
    "g.set_title(\"Tag Frequency in Overall Dataset\")\n",
    "plt.savefig(\"tag_freq.png\", bbox_inches='tight')"
   ]
  },
  {
   "cell_type": "code",
   "execution_count": 58,
   "metadata": {},
   "outputs": [],
   "source": [
    "# get a count of how many tokens are in each plot summary\n",
    "movies_df['plot_token_count'] = movies_df['plot_summary'].apply(lambda x: len(x.split()))"
   ]
  },
  {
   "cell_type": "code",
   "execution_count": 59,
   "metadata": {},
   "outputs": [],
   "source": [
    "# get a count of how many genre lables are in each movie\n",
    "movies_df['genre_count'] = movies_df['assigned_genres'].apply(lambda x: len(x.split(',')))"
   ]
  },
  {
   "cell_type": "code",
   "execution_count": 60,
   "metadata": {},
   "outputs": [],
   "source": [
    "# use the MultilabteBinarizer to get OneHots for the genre labels. \n",
    "# We're using this for data exploration here, but it's how we get our y values for the models later\n",
    "multilabel_binarizer = MultiLabelBinarizer()\n",
    "multilabel_binarizer.fit(movies_df['assigned_genres'].apply(lambda x: x.split(',')))\n",
    "labels = multilabel_binarizer.classes_\n",
    "y = multilabel_binarizer.transform(movies_df['assigned_genres'].apply(lambda x: x.split(',')))\n",
    "movies_df = movies_df.merge(pd.DataFrame(y, columns=labels, index=movies_df.index), left_index=True, right_index=True)"
   ]
  },
  {
   "cell_type": "code",
   "execution_count": 61,
   "metadata": {},
   "outputs": [
    {
     "data": {
      "text/html": [
       "<div>\n",
       "<style scoped>\n",
       "    .dataframe tbody tr th:only-of-type {\n",
       "        vertical-align: middle;\n",
       "    }\n",
       "\n",
       "    .dataframe tbody tr th {\n",
       "        vertical-align: top;\n",
       "    }\n",
       "\n",
       "    .dataframe thead th {\n",
       "        text-align: right;\n",
       "    }\n",
       "</style>\n",
       "<table border=\"1\" class=\"dataframe\">\n",
       "  <thead>\n",
       "    <tr style=\"text-align: right;\">\n",
       "      <th></th>\n",
       "      <th>name</th>\n",
       "      <th>plot_summary</th>\n",
       "      <th>assigned_genres</th>\n",
       "      <th>plot_token_count</th>\n",
       "      <th>genre_count</th>\n",
       "      <th>Action</th>\n",
       "      <th>Adventure</th>\n",
       "      <th>Animated</th>\n",
       "      <th>Comedy</th>\n",
       "      <th>Documentary</th>\n",
       "      <th>...</th>\n",
       "      <th>Horror</th>\n",
       "      <th>Indie</th>\n",
       "      <th>Musical</th>\n",
       "      <th>Mystery</th>\n",
       "      <th>Romance</th>\n",
       "      <th>Science Fiction</th>\n",
       "      <th>Teen</th>\n",
       "      <th>Thriller</th>\n",
       "      <th>Western</th>\n",
       "      <th>World Cinema</th>\n",
       "    </tr>\n",
       "  </thead>\n",
       "  <tbody>\n",
       "    <tr>\n",
       "      <th>18225554</th>\n",
       "      <td>It's Alive</td>\n",
       "      <td>Just before the end of her semester at college...</td>\n",
       "      <td>Science Fiction,Horror</td>\n",
       "      <td>330</td>\n",
       "      <td>2</td>\n",
       "      <td>0</td>\n",
       "      <td>0</td>\n",
       "      <td>0</td>\n",
       "      <td>0</td>\n",
       "      <td>0</td>\n",
       "      <td>...</td>\n",
       "      <td>1</td>\n",
       "      <td>0</td>\n",
       "      <td>0</td>\n",
       "      <td>0</td>\n",
       "      <td>0</td>\n",
       "      <td>1</td>\n",
       "      <td>0</td>\n",
       "      <td>0</td>\n",
       "      <td>0</td>\n",
       "      <td>0</td>\n",
       "    </tr>\n",
       "    <tr>\n",
       "      <th>32508075</th>\n",
       "      <td>Virgin Island</td>\n",
       "      <td>A British woman marries an American writer in ...</td>\n",
       "      <td>Drama,Adventure</td>\n",
       "      <td>25</td>\n",
       "      <td>2</td>\n",
       "      <td>0</td>\n",
       "      <td>1</td>\n",
       "      <td>0</td>\n",
       "      <td>0</td>\n",
       "      <td>0</td>\n",
       "      <td>...</td>\n",
       "      <td>0</td>\n",
       "      <td>0</td>\n",
       "      <td>0</td>\n",
       "      <td>0</td>\n",
       "      <td>0</td>\n",
       "      <td>0</td>\n",
       "      <td>0</td>\n",
       "      <td>0</td>\n",
       "      <td>0</td>\n",
       "      <td>0</td>\n",
       "    </tr>\n",
       "    <tr>\n",
       "      <th>20632900</th>\n",
       "      <td>Mystic Pink</td>\n",
       "      <td>The NNP NNP lives in a rundown house at the ci...</td>\n",
       "      <td>Animated,Comedy,Indie</td>\n",
       "      <td>157</td>\n",
       "      <td>3</td>\n",
       "      <td>0</td>\n",
       "      <td>0</td>\n",
       "      <td>1</td>\n",
       "      <td>1</td>\n",
       "      <td>0</td>\n",
       "      <td>...</td>\n",
       "      <td>0</td>\n",
       "      <td>1</td>\n",
       "      <td>0</td>\n",
       "      <td>0</td>\n",
       "      <td>0</td>\n",
       "      <td>0</td>\n",
       "      <td>0</td>\n",
       "      <td>0</td>\n",
       "      <td>0</td>\n",
       "      <td>0</td>\n",
       "    </tr>\n",
       "  </tbody>\n",
       "</table>\n",
       "<p>3 rows × 23 columns</p>\n",
       "</div>"
      ],
      "text/plain": [
       "                   name                                       plot_summary  \\\n",
       "18225554     It's Alive  Just before the end of her semester at college...   \n",
       "32508075  Virgin Island  A British woman marries an American writer in ...   \n",
       "20632900    Mystic Pink  The NNP NNP lives in a rundown house at the ci...   \n",
       "\n",
       "                 assigned_genres  plot_token_count  genre_count  Action  \\\n",
       "18225554  Science Fiction,Horror               330            2       0   \n",
       "32508075         Drama,Adventure                25            2       0   \n",
       "20632900   Animated,Comedy,Indie               157            3       0   \n",
       "\n",
       "          Adventure  Animated  Comedy  Documentary      ...       Horror  \\\n",
       "18225554          0         0       0            0      ...            1   \n",
       "32508075          1         0       0            0      ...            0   \n",
       "20632900          0         1       1            0      ...            0   \n",
       "\n",
       "          Indie  Musical  Mystery  Romance  Science Fiction  Teen  Thriller  \\\n",
       "18225554      0        0        0        0                1     0         0   \n",
       "32508075      0        0        0        0                0     0         0   \n",
       "20632900      1        0        0        0                0     0         0   \n",
       "\n",
       "          Western  World Cinema  \n",
       "18225554        0             0  \n",
       "32508075        0             0  \n",
       "20632900        0             0  \n",
       "\n",
       "[3 rows x 23 columns]"
      ]
     },
     "execution_count": 61,
     "metadata": {},
     "output_type": "execute_result"
    }
   ],
   "source": [
    "movies_df.sample(3)"
   ]
  },
  {
   "cell_type": "code",
   "execution_count": 70,
   "metadata": {},
   "outputs": [
    {
     "data": {
      "image/png": "[encoded data removed]",
      "text/plain": [
       "<Figure size 1152x576 with 1 Axes>"
      ]
     },
     "metadata": {},
     "output_type": "display_data"
    }
   ],
   "source": [
    "token_counts = []\n",
    "for label in labels:\n",
    "    token_counts += [(label,x) for x in movies_df[movies_df[label]==1]['plot_token_count'].values]\n",
    "token_counts += [('Overall',x) for x in movies_df['plot_token_count'].values]\n",
    "\n",
    "token_counts = pd.DataFrame(token_counts)\n",
    "token_counts.columns = ['Genre', 'plot_token_count']\n",
    "\n",
    "# get the means by genre so we can sort the boxplot\n",
    "means = token_counts.groupby(\"Genre\").mean().sort_values('plot_token_count', ascending=False)\n",
    "\n",
    "fig, ax = plt.subplots()\n",
    "fig.set_size_inches(16,8)\n",
    "g = sns.boxplot(y='Genre', x='plot_token_count', data=token_counts, order=means.index, palette='Purples_r', ax=ax)\n",
    "g.set_title(\"Token Frequency by Genre\")\n",
    "plt.xlim(0,2000)\n",
    "\n",
    "# pick out the overall box and re-color it so it stands out\n",
    "overall_box = ax.artists[14]\n",
    "overall_box.set_facecolor('red')\n",
    "overall_box.set_edgecolor('black')\n",
    "\n",
    "plt.savefig(\"token_freq_comparison.png\", bbox_inches='tight')"
   ]
  },
  {
   "cell_type": "code",
   "execution_count": 71,
   "metadata": {},
   "outputs": [
    {
     "data": {
      "text/plain": [
       "count    40907.000000\n",
       "mean         2.398905\n",
       "std          1.254656\n",
       "min          1.000000\n",
       "25%          1.000000\n",
       "50%          2.000000\n",
       "75%          3.000000\n",
       "max          9.000000\n",
       "Name: genre_count, dtype: float64"
      ]
     },
     "execution_count": 71,
     "metadata": {},
     "output_type": "execute_result"
    }
   ],
   "source": [
    "movies_df['genre_count'].describe()"
   ]
  },
  {
   "cell_type": "markdown",
   "metadata": {},
   "source": [
    "# Data Prep"
   ]
  },
  {
   "cell_type": "code",
   "execution_count": 2,
   "metadata": {},
   "outputs": [],
   "source": [
    "# load in the cleaned and tokenized dataset\n",
    "movies_df = pd.read_csv(\"movies_tokenized.csv\", index_col=0)[['plot_summary', 'assigned_genres']]\n",
    "# return the genre lables to a list \n",
    "movies_df['assigned_genres'] = movies_df['assigned_genres'].apply(lambda x: x.split(','))\n",
    "# drop all rows with a null value\n",
    "movies_df.dropna(inplace=True)"
   ]
  },
  {
   "cell_type": "code",
   "execution_count": 3,
   "metadata": {},
   "outputs": [],
   "source": [
    "# Create the labels - shouldn't change between implementations\n",
    "multilabel_binarizer = MultiLabelBinarizer()\n",
    "multilabel_binarizer.fit(movies_df['assigned_genres'])\n",
    "labels = multilabel_binarizer.classes_\n",
    "y = multilabel_binarizer.transform(movies_df['assigned_genres'])"
   ]
  },
  {
   "cell_type": "code",
   "execution_count": 4,
   "metadata": {},
   "outputs": [],
   "source": [
    "# Class Weights\n",
    "counts = {k:0 for k in labels}\n",
    "for i,row in movies_df['assigned_genres'].iteritems():\n",
    "    for g in row:\n",
    "        counts[g] += 1\n",
    "# convert into percentages\n",
    "counts = {k:v/sum(counts.values()) for k,v in counts.items()}\n",
    "\n",
    "# create a dict the model can use\n",
    "class_weight ={}\n",
    "for index, label in enumerate(labels):\n",
    "    class_weight[index] = counts[label]"
   ]
  },
  {
   "cell_type": "code",
   "execution_count": 5,
   "metadata": {},
   "outputs": [],
   "source": [
    "# the same function keras scores categorical accuracy with\n",
    "# not the same as sklearn\n",
    "def cat_accuracy(y_true, y_pred):\n",
    "    return np.equal(np.argmax(y_true, axis=-1), np.argmax(y_pred, axis=-1)).astype(int).sum()/y_true.shape[0]"
   ]
  },
  {
   "cell_type": "code",
   "execution_count": 6,
   "metadata": {},
   "outputs": [],
   "source": [
    "def top_k_categorical_accuracy(y_true, y_pred, k=5):\n",
    "    top_k = np.flip(np.argsort(y_pred))[:k]\n",
    "    target_k = np.flip(np.argsort(y_true))[:k]\n",
    "    count = 0\n",
    "    for t in target_k:\n",
    "        if t in top_k:\n",
    "            count += 1\n",
    "    return count/k"
   ]
  },
  {
   "cell_type": "markdown",
   "metadata": {},
   "source": [
    "## Topic Modeling"
   ]
  },
  {
   "cell_type": "markdown",
   "metadata": {},
   "source": [
    "### Tokenize / N-gram detection"
   ]
  },
  {
   "cell_type": "code",
   "execution_count": 2,
   "metadata": {},
   "outputs": [
    {
     "data": {
      "text/html": [
       "<div>\n",
       "<style scoped>\n",
       "    .dataframe tbody tr th:only-of-type {\n",
       "        vertical-align: middle;\n",
       "    }\n",
       "\n",
       "    .dataframe tbody tr th {\n",
       "        vertical-align: top;\n",
       "    }\n",
       "\n",
       "    .dataframe thead th {\n",
       "        text-align: right;\n",
       "    }\n",
       "</style>\n",
       "<table border=\"1\" class=\"dataframe\">\n",
       "  <thead>\n",
       "    <tr style=\"text-align: right;\">\n",
       "      <th></th>\n",
       "      <th>name</th>\n",
       "      <th>plot_summary</th>\n",
       "      <th>assigned_genres</th>\n",
       "    </tr>\n",
       "  </thead>\n",
       "  <tbody>\n",
       "    <tr>\n",
       "      <th>29173696</th>\n",
       "      <td>Hindle Wakes</td>\n",
       "      <td>NNP mill-girls NNP NNP and NNP NNP go on holid...</td>\n",
       "      <td>Drama,Romance</td>\n",
       "    </tr>\n",
       "    <tr>\n",
       "      <th>9475022</th>\n",
       "      <td>Off Season</td>\n",
       "      <td>After the death of his parents in a car crash ...</td>\n",
       "      <td>Drama,Family,Comedy</td>\n",
       "    </tr>\n",
       "    <tr>\n",
       "      <th>31341418</th>\n",
       "      <td>Nool Veli</td>\n",
       "      <td>The story deals with the crisis of a middle-ag...</td>\n",
       "      <td>Drama</td>\n",
       "    </tr>\n",
       "  </tbody>\n",
       "</table>\n",
       "</div>"
      ],
      "text/plain": [
       "                  name                                       plot_summary  \\\n",
       "29173696  Hindle Wakes  NNP mill-girls NNP NNP and NNP NNP go on holid...   \n",
       "9475022     Off Season  After the death of his parents in a car crash ...   \n",
       "31341418     Nool Veli  The story deals with the crisis of a middle-ag...   \n",
       "\n",
       "              assigned_genres  \n",
       "29173696        Drama,Romance  \n",
       "9475022   Drama,Family,Comedy  \n",
       "31341418                Drama  "
      ]
     },
     "execution_count": 2,
     "metadata": {},
     "output_type": "execute_result"
    }
   ],
   "source": [
    "movies_df = pd.read_csv(\"movies_cleaned.csv\", index_col=0)\n",
    "movies_df.sample(3)"
   ]
  },
  {
   "cell_type": "code",
   "execution_count": 79,
   "metadata": {},
   "outputs": [
    {
     "name": "stdout",
     "output_type": "stream",
     "text": [
      "Wall time: 8min\n"
     ]
    }
   ],
   "source": [
    "%%time\n",
    "stemmer = PorterStemmer()\n",
    "movies_df['plot_summary_stemmed'] = movies_df['plot_summary'].apply(lambda x: [stemmer.stem(t) for t in nltk.word_tokenize(x)])"
   ]
  },
  {
   "cell_type": "code",
   "execution_count": 80,
   "metadata": {},
   "outputs": [
    {
     "name": "stdout",
     "output_type": "stream",
     "text": [
      "Wall time: 2min 17s\n"
     ]
    }
   ],
   "source": [
    "%%time\n",
    "# from https://www.machinelearningplus.com/nlp/topic-modeling-gensim-python/\n",
    "bigram = gensim.models.Phrases([x for x in movies_df['plot_summary']], min_count=30)\n",
    "bigram_mod = gensim.models.phrases.Phraser(bigram)"
   ]
  },
  {
   "cell_type": "code",
   "execution_count": 81,
   "metadata": {},
   "outputs": [],
   "source": [
    "movies_df['plot_summary'] = movies_df['plot_summary_stemmed'].apply(lambda x: re.sub(r'[^\\w\\s]|\\r\\n','',' '.join(x)).lower())\n",
    "movies_df.drop(columns=['plot_summary_stemmed'], inplace=True)\n",
    "movies_df['plot_summary'] = movies_df['plot_summary'].apply(lambda x: bigram_mod[x.split()])\n",
    "movies_df['plot_summary'] = movies_df['plot_summary'].apply(lambda x: ' '.join(x))"
   ]
  },
  {
   "cell_type": "code",
   "execution_count": 82,
   "metadata": {},
   "outputs": [
    {
     "data": {
      "text/html": [
       "<div>\n",
       "<style scoped>\n",
       "    .dataframe tbody tr th:only-of-type {\n",
       "        vertical-align: middle;\n",
       "    }\n",
       "\n",
       "    .dataframe tbody tr th {\n",
       "        vertical-align: top;\n",
       "    }\n",
       "\n",
       "    .dataframe thead th {\n",
       "        text-align: right;\n",
       "    }\n",
       "</style>\n",
       "<table border=\"1\" class=\"dataframe\">\n",
       "  <thead>\n",
       "    <tr style=\"text-align: right;\">\n",
       "      <th></th>\n",
       "      <th>name</th>\n",
       "      <th>plot_summary</th>\n",
       "      <th>assigned_genres</th>\n",
       "    </tr>\n",
       "  </thead>\n",
       "  <tbody>\n",
       "    <tr>\n",
       "      <th>23890098</th>\n",
       "      <td>Taxi Blues</td>\n",
       "      <td>nnp a hardwork taxi driver and nnp a saxophoni...</td>\n",
       "      <td>Drama,World Cinema</td>\n",
       "    </tr>\n",
       "    <tr>\n",
       "      <th>31186339</th>\n",
       "      <td>The Hunger Games</td>\n",
       "      <td>the nation of nnp consist of a wealthi nnp and...</td>\n",
       "      <td>Science Fiction,Action,Drama,Adventure</td>\n",
       "    </tr>\n",
       "    <tr>\n",
       "      <th>20663735</th>\n",
       "      <td>Narasimham</td>\n",
       "      <td>nnp nnp is sentenc for six year prison life fo...</td>\n",
       "      <td>Drama,World Cinema,Action,Musical</td>\n",
       "    </tr>\n",
       "    <tr>\n",
       "      <th>2231378</th>\n",
       "      <td>The Lemon Drop Kid</td>\n",
       "      <td>the nnp nnp nnp a nnp nnp nnp swindler is ille...</td>\n",
       "      <td>Comedy</td>\n",
       "    </tr>\n",
       "    <tr>\n",
       "      <th>595909</th>\n",
       "      <td>A Cry in the Dark</td>\n",
       "      <td>seventhday nnp nnp pastor nnp nnp hi wife nnp ...</td>\n",
       "      <td>Drama,World Cinema,Documentary</td>\n",
       "    </tr>\n",
       "  </tbody>\n",
       "</table>\n",
       "</div>"
      ],
      "text/plain": [
       "                        name  \\\n",
       "23890098          Taxi Blues   \n",
       "31186339    The Hunger Games   \n",
       "20663735          Narasimham   \n",
       "2231378   The Lemon Drop Kid   \n",
       "595909     A Cry in the Dark   \n",
       "\n",
       "                                               plot_summary  \\\n",
       "23890098  nnp a hardwork taxi driver and nnp a saxophoni...   \n",
       "31186339  the nation of nnp consist of a wealthi nnp and...   \n",
       "20663735  nnp nnp is sentenc for six year prison life fo...   \n",
       "2231378   the nnp nnp nnp a nnp nnp nnp swindler is ille...   \n",
       "595909    seventhday nnp nnp pastor nnp nnp hi wife nnp ...   \n",
       "\n",
       "                                 assigned_genres  \n",
       "23890098                      Drama,World Cinema  \n",
       "31186339  Science Fiction,Action,Drama,Adventure  \n",
       "20663735       Drama,World Cinema,Action,Musical  \n",
       "2231378                                   Comedy  \n",
       "595909            Drama,World Cinema,Documentary  "
      ]
     },
     "execution_count": 82,
     "metadata": {},
     "output_type": "execute_result"
    }
   ],
   "source": [
    "movies_df.head()"
   ]
  },
  {
   "cell_type": "code",
   "execution_count": 83,
   "metadata": {},
   "outputs": [],
   "source": [
    "movies_df.to_csv(\"movies_tokenized.csv\")"
   ]
  },
  {
   "cell_type": "markdown",
   "metadata": {},
   "source": [
    "### Test/Train Split"
   ]
  },
  {
   "cell_type": "code",
   "execution_count": 268,
   "metadata": {},
   "outputs": [
    {
     "name": "stdout",
     "output_type": "stream",
     "text": [
      "Wall time: 2.88 s\n"
     ]
    }
   ],
   "source": [
    "%%time\n",
    "movies_df = pd.read_csv(\"movies_tokenized.csv\", index_col=0)\n",
    "movies_df.dropna(inplace=True)\n",
    "\n",
    "# convert the summaries back into lists of tokens\n",
    "movies_df['plot_summary'] = movies_df['plot_summary'].apply(lambda x: x.split())"
   ]
  },
  {
   "cell_type": "code",
   "execution_count": 269,
   "metadata": {},
   "outputs": [
    {
     "data": {
      "text/html": [
       "<div>\n",
       "<style scoped>\n",
       "    .dataframe tbody tr th:only-of-type {\n",
       "        vertical-align: middle;\n",
       "    }\n",
       "\n",
       "    .dataframe tbody tr th {\n",
       "        vertical-align: top;\n",
       "    }\n",
       "\n",
       "    .dataframe thead th {\n",
       "        text-align: right;\n",
       "    }\n",
       "</style>\n",
       "<table border=\"1\" class=\"dataframe\">\n",
       "  <thead>\n",
       "    <tr style=\"text-align: right;\">\n",
       "      <th></th>\n",
       "      <th>name</th>\n",
       "      <th>plot_summary</th>\n",
       "      <th>assigned_genres</th>\n",
       "    </tr>\n",
       "  </thead>\n",
       "  <tbody>\n",
       "    <tr>\n",
       "      <th>560431</th>\n",
       "      <td>Stranger on the Third Floor</td>\n",
       "      <td>[report, nnp, nnp, is, the, key, wit, in, a, m...</td>\n",
       "      <td>Thriller,Mystery,Drama</td>\n",
       "    </tr>\n",
       "    <tr>\n",
       "      <th>26122958</th>\n",
       "      <td>On the Path</td>\n",
       "      <td>[nnp, and, nnp, are, a, young, bosnian, coupl,...</td>\n",
       "      <td>Drama,Romance</td>\n",
       "    </tr>\n",
       "    <tr>\n",
       "      <th>17458139</th>\n",
       "      <td>Rab Ne Bana Di Jodi</td>\n",
       "      <td>[nnp, introvert, and, kindheart, nnp, nnp, nnp...</td>\n",
       "      <td>Drama,Musical,World Cinema,Comedy,Romance</td>\n",
       "    </tr>\n",
       "  </tbody>\n",
       "</table>\n",
       "</div>"
      ],
      "text/plain": [
       "                                 name  \\\n",
       "560431    Stranger on the Third Floor   \n",
       "26122958                  On the Path   \n",
       "17458139          Rab Ne Bana Di Jodi   \n",
       "\n",
       "                                               plot_summary  \\\n",
       "560431    [report, nnp, nnp, is, the, key, wit, in, a, m...   \n",
       "26122958  [nnp, and, nnp, are, a, young, bosnian, coupl,...   \n",
       "17458139  [nnp, introvert, and, kindheart, nnp, nnp, nnp...   \n",
       "\n",
       "                                    assigned_genres  \n",
       "560431                       Thriller,Mystery,Drama  \n",
       "26122958                              Drama,Romance  \n",
       "17458139  Drama,Musical,World Cinema,Comedy,Romance  "
      ]
     },
     "execution_count": 269,
     "metadata": {},
     "output_type": "execute_result"
    }
   ],
   "source": [
    "movies_df.sample(3)"
   ]
  },
  {
   "cell_type": "code",
   "execution_count": 270,
   "metadata": {},
   "outputs": [
    {
     "name": "stdout",
     "output_type": "stream",
     "text": [
      "Filtered to 17729 words...\n",
      "0 brother, work, money, mother, day, goe, had, young, decid, call\n",
      "1 father, mother, decid, turn, so, down, wife, name, own, daughter\n",
      "2 hous, mother, had, begin, off, work, girl, famili, home, day\n",
      "3 work, use, stori, himself, call, say, later, woman, new, show\n",
      "4 hous, arriv, father, off, through, car, decid, run, call, had\n",
      "5 wife, there, show, give, order, daughter, call, fall, work, want\n",
      "6 polic, use, villag, forc, arriv, murder, so, decid, men, dure\n",
      "7 famili, name, stori, work, through, dure, play, young, run, ship\n",
      "8 had, work, money, stori, himself, name, father, play, doe, day\n",
      "9 famili, father, had, escap, off, howev, begin, attempt, over, name\n",
      "10 home, day, had, marri, famili, father, want, so, work, over\n",
      "11 use, attempt, escap, himself, more, decid, fight, through, over, hous\n",
      "12 attack, fight, off, day, howev, use, so, team, escap, famili\n",
      "13 son, father, year, school, mother, famili, daughter, day, doe, home\n",
      "14 hous, off, father, mother, nt, goe, show, scene, famili, room\n",
      "15 down, had, off, there, goe, begin, hous, night, turn, mother\n",
      "16 father, start, mother, parent, turn, had, so, home, fall, goe\n",
      "17 father, first, howev, off, had, mother, famili, doe, later, name\n",
      "Wall time: 2min 8s\n"
     ]
    }
   ],
   "source": [
    "%%time\n",
    "vocab=100000\n",
    "num_topics=18\n",
    "\n",
    "# using gensim, create the dictionary and the corpus to input into the LDA model\n",
    "# from https://www.machinelearningplus.com/nlp/topic-modeling-gensim-python/\n",
    "id2word = corpora.Dictionary(movies_df['plot_summary']) # Term-Document Frequency \n",
    "id2word.filter_extremes(no_below=5, no_above=0.25, keep_n=vocab)\n",
    "\n",
    "print(\"Filtered to {} words...\".format(len(id2word.keys())))\n",
    "\n",
    "movies_df, test_movies_df = train_test_split(movies_df, train_size=0.9, random_state=630)\n",
    "\n",
    "# creates a list of (int,int) tuples, where the first is the unique id of the word, and the second is the number of times it appears in the document\n",
    "corpus = [id2word.doc2bow(text) for text in movies_df['plot_summary']]\n",
    "\n",
    "lda_model = gensim.models.ldamulticore.LdaMulticore(corpus=corpus, id2word=id2word, num_topics=num_topics, iterations=100, passes=1)\n",
    "vis = pyLDAvis.gensim.prepare(lda_model, corpus, id2word)\n",
    "pyLDAvis.save_html(vis, \"vis_out.html\")\n",
    "\n",
    "topic_terms = {}\n",
    "for topic in range(num_topics):\n",
    "    topic_terms[topic] = [id2word[word[0]] for word in lda_model.get_topic_terms(topic, topn=10)]\n",
    "\n",
    "for topic,terms in topic_terms.items():\n",
    "    print(topic, ', '.join(terms))"
   ]
  },
  {
   "cell_type": "code",
   "execution_count": 271,
   "metadata": {},
   "outputs": [
    {
     "name": "stdout",
     "output_type": "stream",
     "text": [
      "Wall time: 1min 37s\n"
     ]
    }
   ],
   "source": [
    "%%time\n",
    "topic_by_doc = {}\n",
    "for i, row in enumerate(lda_model[corpus]):\n",
    "    row = sorted(row, key=lambda x: x[1], reverse=True)\n",
    "    topic_by_doc[i] = [x[0] for x in row]\n",
    "\n",
    "# https://stackoverflow.com/questions/19736080/creating-dataframe-from-a-dictionary-where-entries-have-different-lengths\n",
    "doc_topics_df = pd.DataFrame(dict([(k,pd.Series(v)) for k,v in topic_by_doc.items()])).transpose()\n",
    "doc_topics_df.columns = [\"Topic_\"+str(x+1) for x in range(num_topics)]"
   ]
  },
  {
   "cell_type": "code",
   "execution_count": 272,
   "metadata": {},
   "outputs": [],
   "source": [
    "results_df = movies_df\n",
    "results_df.reset_index(inplace=True)\n",
    "results_df = results_df.merge(doc_topics_df, left_index=True, right_index=True)"
   ]
  },
  {
   "cell_type": "code",
   "execution_count": 273,
   "metadata": {},
   "outputs": [
    {
     "data": {
      "text/html": [
       "<div>\n",
       "<style scoped>\n",
       "    .dataframe tbody tr th:only-of-type {\n",
       "        vertical-align: middle;\n",
       "    }\n",
       "\n",
       "    .dataframe tbody tr th {\n",
       "        vertical-align: top;\n",
       "    }\n",
       "\n",
       "    .dataframe thead th {\n",
       "        text-align: right;\n",
       "    }\n",
       "</style>\n",
       "<table border=\"1\" class=\"dataframe\">\n",
       "  <thead>\n",
       "    <tr style=\"text-align: right;\">\n",
       "      <th></th>\n",
       "      <th>index</th>\n",
       "      <th>name</th>\n",
       "      <th>plot_summary</th>\n",
       "      <th>assigned_genres</th>\n",
       "      <th>Topic_1</th>\n",
       "      <th>Topic_2</th>\n",
       "      <th>Topic_3</th>\n",
       "      <th>Topic_4</th>\n",
       "      <th>Topic_5</th>\n",
       "      <th>Topic_6</th>\n",
       "      <th>...</th>\n",
       "      <th>Topic_9</th>\n",
       "      <th>Topic_10</th>\n",
       "      <th>Topic_11</th>\n",
       "      <th>Topic_12</th>\n",
       "      <th>Topic_13</th>\n",
       "      <th>Topic_14</th>\n",
       "      <th>Topic_15</th>\n",
       "      <th>Topic_16</th>\n",
       "      <th>Topic_17</th>\n",
       "      <th>Topic_18</th>\n",
       "    </tr>\n",
       "  </thead>\n",
       "  <tbody>\n",
       "    <tr>\n",
       "      <th>788</th>\n",
       "      <td>860103</td>\n",
       "      <td>In the Time of the Butterflies</td>\n",
       "      <td>[the, nnp, nnp, show, pictur, and, film, of, t...</td>\n",
       "      <td>Drama,Romance</td>\n",
       "      <td>10.0</td>\n",
       "      <td>17.0</td>\n",
       "      <td>13.0</td>\n",
       "      <td>NaN</td>\n",
       "      <td>NaN</td>\n",
       "      <td>NaN</td>\n",
       "      <td>...</td>\n",
       "      <td>NaN</td>\n",
       "      <td>NaN</td>\n",
       "      <td>NaN</td>\n",
       "      <td>NaN</td>\n",
       "      <td>NaN</td>\n",
       "      <td>NaN</td>\n",
       "      <td>NaN</td>\n",
       "      <td>NaN</td>\n",
       "      <td>NaN</td>\n",
       "      <td>NaN</td>\n",
       "    </tr>\n",
       "    <tr>\n",
       "      <th>34835</th>\n",
       "      <td>16168084</td>\n",
       "      <td>Engal Anna</td>\n",
       "      <td>[the, film, open, with, a, flashback, show, th...</td>\n",
       "      <td>Drama,Action,Adventure,World Cinema,Romance</td>\n",
       "      <td>10.0</td>\n",
       "      <td>0.0</td>\n",
       "      <td>13.0</td>\n",
       "      <td>NaN</td>\n",
       "      <td>NaN</td>\n",
       "      <td>NaN</td>\n",
       "      <td>...</td>\n",
       "      <td>NaN</td>\n",
       "      <td>NaN</td>\n",
       "      <td>NaN</td>\n",
       "      <td>NaN</td>\n",
       "      <td>NaN</td>\n",
       "      <td>NaN</td>\n",
       "      <td>NaN</td>\n",
       "      <td>NaN</td>\n",
       "      <td>NaN</td>\n",
       "      <td>NaN</td>\n",
       "    </tr>\n",
       "    <tr>\n",
       "      <th>18006</th>\n",
       "      <td>1683542</td>\n",
       "      <td>Imaginary Heroes</td>\n",
       "      <td>[nnp, nnp, is, goodlook, popular, and, hi, sch...</td>\n",
       "      <td>Drama,Family,Comedy</td>\n",
       "      <td>13.0</td>\n",
       "      <td>16.0</td>\n",
       "      <td>10.0</td>\n",
       "      <td>4.0</td>\n",
       "      <td>NaN</td>\n",
       "      <td>NaN</td>\n",
       "      <td>...</td>\n",
       "      <td>NaN</td>\n",
       "      <td>NaN</td>\n",
       "      <td>NaN</td>\n",
       "      <td>NaN</td>\n",
       "      <td>NaN</td>\n",
       "      <td>NaN</td>\n",
       "      <td>NaN</td>\n",
       "      <td>NaN</td>\n",
       "      <td>NaN</td>\n",
       "      <td>NaN</td>\n",
       "    </tr>\n",
       "  </tbody>\n",
       "</table>\n",
       "<p>3 rows × 22 columns</p>\n",
       "</div>"
      ],
      "text/plain": [
       "          index                            name  \\\n",
       "788      860103  In the Time of the Butterflies   \n",
       "34835  16168084                      Engal Anna   \n",
       "18006   1683542                Imaginary Heroes   \n",
       "\n",
       "                                            plot_summary  \\\n",
       "788    [the, nnp, nnp, show, pictur, and, film, of, t...   \n",
       "34835  [the, film, open, with, a, flashback, show, th...   \n",
       "18006  [nnp, nnp, is, goodlook, popular, and, hi, sch...   \n",
       "\n",
       "                                   assigned_genres  Topic_1  Topic_2  Topic_3  \\\n",
       "788                                  Drama,Romance     10.0     17.0     13.0   \n",
       "34835  Drama,Action,Adventure,World Cinema,Romance     10.0      0.0     13.0   \n",
       "18006                          Drama,Family,Comedy     13.0     16.0     10.0   \n",
       "\n",
       "       Topic_4  Topic_5  Topic_6    ...     Topic_9  Topic_10  Topic_11  \\\n",
       "788        NaN      NaN      NaN    ...         NaN       NaN       NaN   \n",
       "34835      NaN      NaN      NaN    ...         NaN       NaN       NaN   \n",
       "18006      4.0      NaN      NaN    ...         NaN       NaN       NaN   \n",
       "\n",
       "       Topic_12  Topic_13  Topic_14  Topic_15  Topic_16  Topic_17  Topic_18  \n",
       "788         NaN       NaN       NaN       NaN       NaN       NaN       NaN  \n",
       "34835       NaN       NaN       NaN       NaN       NaN       NaN       NaN  \n",
       "18006       NaN       NaN       NaN       NaN       NaN       NaN       NaN  \n",
       "\n",
       "[3 rows x 22 columns]"
      ]
     },
     "execution_count": 273,
     "metadata": {},
     "output_type": "execute_result"
    }
   ],
   "source": [
    "results_df.sample(3)"
   ]
  },
  {
   "cell_type": "code",
   "execution_count": 274,
   "metadata": {},
   "outputs": [],
   "source": [
    "# Create the labels - shouldn't change between implementations\n",
    "multilabel_binarizer = MultiLabelBinarizer()\n",
    "multilabel_binarizer.fit(results_df['assigned_genres'].apply(lambda x: x.split(',')))\n",
    "labels = multilabel_binarizer.classes_"
   ]
  },
  {
   "cell_type": "code",
   "execution_count": 275,
   "metadata": {},
   "outputs": [],
   "source": [
    "results_df = results_df.merge(pd.DataFrame(y, columns=labels), left_index=True, right_index=True)"
   ]
  },
  {
   "cell_type": "code",
   "execution_count": 277,
   "metadata": {},
   "outputs": [],
   "source": [
    "results_df.drop(columns=['index'], inplace=True)"
   ]
  },
  {
   "cell_type": "code",
   "execution_count": 278,
   "metadata": {},
   "outputs": [],
   "source": [
    "# count the number of occurances for each topic with each label\n",
    "topic_weights = {topic:{genre:0 for genre in labels} for topic in range(len(labels))}\n",
    "for genre in labels:\n",
    "    for i,row in results_df[results_df[genre]==1].iterrows():\n",
    "        for topic_num in range(num_topics):\n",
    "            topic_id = row.iloc[4+topic_num]\n",
    "            if pd.notnull(topic_id):\n",
    "#                 discount = 1/(math.log(topic_num+1)+1)\n",
    "                discount = 1\n",
    "                topic_weights[topic_id][genre] += discount"
   ]
  },
  {
   "cell_type": "code",
   "execution_count": 279,
   "metadata": {},
   "outputs": [],
   "source": [
    "# normalize those counts to percents\n",
    "for topic,weights in topic_weights.items():\n",
    "    total_weight = sum(topic_weights[topic].values())\n",
    "    topic_weights[topic] = {genre:weight/total_weight for genre,weight in weights.items()}"
   ]
  },
  {
   "cell_type": "markdown",
   "metadata": {},
   "source": [
    "# Baseline Testing"
   ]
  },
  {
   "cell_type": "markdown",
   "metadata": {},
   "source": [
    "# Random"
   ]
  },
  {
   "cell_type": "code",
   "execution_count": 253,
   "metadata": {},
   "outputs": [],
   "source": [
    "movies_df, test_movies_df = train_test_split(movies_df, train_size=0.9, random_state=630)"
   ]
  },
  {
   "cell_type": "code",
   "execution_count": 267,
   "metadata": {},
   "outputs": [
    {
     "data": {
      "text/plain": [
       "0.33253483255927646"
      ]
     },
     "execution_count": 267,
     "metadata": {},
     "output_type": "execute_result"
    }
   ],
   "source": [
    "true_y = multilabel_binarizer.transform(test_movies_df['assigned_genres'])\n",
    "\n",
    "# random present/missing for every genre\n",
    "pred_y = np.zeros(true_y.shape)\n",
    "for i in range(true_y.shape[0]):\n",
    "    for j in range(true_y.shape[1]):\n",
    "        pred_y[i,j] = np.random.choice([0,1])\n",
    "        \n",
    "results = []\n",
    "for x in range(true_y.shape[0]):\n",
    "    results.append(top_k_categorical_accuracy(true_y[x], pred_y[x]))\n",
    "    \n",
    "np.mean(results)"
   ]
  },
  {
   "cell_type": "markdown",
   "metadata": {},
   "source": [
    "### Weighted Averages based on LDA Topics"
   ]
  },
  {
   "cell_type": "code",
   "execution_count": 280,
   "metadata": {},
   "outputs": [],
   "source": [
    "# 0.60 Average Score: 0.3467190312131629\n",
    "\n",
    "test_corpus = [id2word.doc2bow(text) for text in test_movies_df['plot_summary']]\n",
    "test_topic_by_doc = {}\n",
    "for i, row in enumerate(lda_model[test_corpus]):\n",
    "    row = sorted(row, key=lambda x: x[1], reverse=True)\n",
    "    test_topic_by_doc[i] = [x[0] for x in row]\n",
    "\n",
    "test_doc_topics_df = pd.DataFrame(dict([(k,pd.Series(v)) for k,v in test_topic_by_doc.items()])).transpose()\n",
    "test_doc_topics_df.columns = [\"Topic_\"+str(x+1) for x in range(18)]\n",
    "\n",
    "test_results_df = test_movies_df\n",
    "test_results_df.reset_index(inplace=True)\n",
    "test_results_df = test_results_df.merge(test_doc_topics_df, left_index=True, right_index=True)"
   ]
  },
  {
   "cell_type": "code",
   "execution_count": 288,
   "metadata": {},
   "outputs": [
    {
     "data": {
      "text/plain": [
       "0.5674407235394768"
      ]
     },
     "execution_count": 288,
     "metadata": {},
     "output_type": "execute_result"
    }
   ],
   "source": [
    "threshold = 0.5\n",
    "\n",
    "predictions = []\n",
    "for i,movie in test_results_df.iterrows():\n",
    "    weights = np.zeros(18)\n",
    "    for topic_num in range(18):\n",
    "        topic_id = movie.iloc[4+topic_num]\n",
    "        if pd.notnull(topic_id):\n",
    "            weights+=np.array([v for k,v in topic_weights[int(topic_id)].items()])\n",
    "    \n",
    "    prediction = (weights > threshold).astype(int)\n",
    "    predictions.append(prediction)\n",
    "    \n",
    "predictions = np.stack(predictions)\n",
    "\n",
    "true_y = multilabel_binarizer.transform(test_results_df['assigned_genres'].apply(lambda x: x.split(',')))\n",
    "\n",
    "results = []\n",
    "for x in range(true_y.shape[0]):\n",
    "    results.append(top_k_categorical_accuracy(true_y[x], predictions[x]))\n",
    "    \n",
    "np.mean(results)"
   ]
  },
  {
   "cell_type": "markdown",
   "metadata": {},
   "source": [
    "# Multiple Binary"
   ]
  },
  {
   "cell_type": "code",
   "execution_count": 290,
   "metadata": {},
   "outputs": [
    {
     "name": "stdout",
     "output_type": "stream",
     "text": [
      "Wall time: 1min 8s\n"
     ]
    }
   ],
   "source": [
    "%%time\n",
    "movies_df = pd.read_csv(\"movies_cleaned.csv\", index_col=0)\n",
    "vocab = 10000\n",
    "# select 5000 discriminating vocab features with TF-IDF\n",
    "tfidf = TfidfVectorizer(max_features=vocab, ngram_range=(1,2))\n",
    "tfidf.fit(movies_df['plot_summary'])\n",
    "x = tfidf.transform(movies_df['plot_summary'])"
   ]
  },
  {
   "cell_type": "code",
   "execution_count": 291,
   "metadata": {},
   "outputs": [],
   "source": [
    "x_train, x_test, y_train, y_test = train_test_split(x, y, test_size=0.2, random_state=630)"
   ]
  },
  {
   "cell_type": "code",
   "execution_count": 292,
   "metadata": {},
   "outputs": [
    {
     "name": "stdout",
     "output_type": "stream",
     "text": [
      "0 Action\n",
      "1 Adventure\n",
      "2 Animated\n",
      "3 Comedy\n",
      "4 Documentary\n",
      "5 Drama\n",
      "6 Family\n",
      "7 Fantasy\n",
      "8 Horror\n",
      "9 Indie\n",
      "10 Musical\n",
      "11 Mystery\n",
      "12 Romance\n",
      "13 Science Fiction\n",
      "14 Teen\n",
      "15 Thriller\n",
      "16 Western\n",
      "17 World Cinema\n",
      "Wall time: 6min 21s\n"
     ]
    }
   ],
   "source": [
    "%%time\n",
    "classifiers = {}\n",
    "\n",
    "train_predictions = np.zeros((y_train.shape[0],18))\n",
    "test_predictions = np.zeros((y_test.shape[0],18))\n",
    "\n",
    "for index, label in enumerate(labels):\n",
    "    print(index, label)\n",
    "    classifiers[label] = OneVsRestClassifier(BaggingClassifier(svm.LinearSVC()))\n",
    "    classifiers[label].fit(x_train, y_train[:,index])\n",
    "    \n",
    "    train_predictions[:,index]=classifiers[label].predict(x_train)\n",
    "    test_predictions[:,index]=classifiers[label].predict(x_test)"
   ]
  },
  {
   "cell_type": "code",
   "execution_count": 294,
   "metadata": {},
   "outputs": [
    {
     "data": {
      "text/plain": [
       "0.664458567587387"
      ]
     },
     "execution_count": 294,
     "metadata": {},
     "output_type": "execute_result"
    }
   ],
   "source": [
    "\n",
    "results = []\n",
    "for x in range(y_test.shape[0]):\n",
    "    results.append(top_k_categorical_accuracy(y_test[x], test_predictions[x]))\n",
    "    \n",
    "np.mean(results)"
   ]
  },
  {
   "cell_type": "markdown",
   "metadata": {},
   "source": [
    "# Keras Implementation"
   ]
  },
  {
   "cell_type": "markdown",
   "metadata": {},
   "source": [
    "## Simple Neural Net\n",
    "Vocab as input, TF-IDF to 20,000 most significant terms"
   ]
  },
  {
   "cell_type": "code",
   "execution_count": 175,
   "metadata": {},
   "outputs": [],
   "source": [
    "# load in the cleaned and tokenized dataset\n",
    "movies_df = pd.read_csv(\"movies_tokenized.csv\", index_col=0)[['plot_summary', 'assigned_genres']]\n",
    "# return the genre lables to a list \n",
    "movies_df['assigned_genres'] = movies_df['assigned_genres'].apply(lambda x: x.split(','))\n",
    "# drop all rows with a null value\n",
    "movies_df.dropna(inplace=True)"
   ]
  },
  {
   "cell_type": "code",
   "execution_count": 176,
   "metadata": {},
   "outputs": [
    {
     "name": "stdout",
     "output_type": "stream",
     "text": [
      "Wall time: 1min 3s\n"
     ]
    }
   ],
   "source": [
    "%%time\n",
    "vocab = 10000\n",
    "# select vocab features with TF-IDF\n",
    "tfidf = TfidfVectorizer(max_features=vocab, ngram_range=(1,2))\n",
    "tfidf.fit(movies_df['plot_summary'])\n",
    "x = tfidf.transform(movies_df['plot_summary'])"
   ]
  },
  {
   "cell_type": "code",
   "execution_count": 179,
   "metadata": {},
   "outputs": [
    {
     "name": "stdout",
     "output_type": "stream",
     "text": [
      "_________________________________________________________________\n",
      "Layer (type)                 Output Shape              Param #   \n",
      "=================================================================\n",
      "dense_55 (Dense)             (None, 256)               2560256   \n",
      "_________________________________________________________________\n",
      "dropout_49 (Dropout)         (None, 256)               0         \n",
      "_________________________________________________________________\n",
      "dense_56 (Dense)             (None, 128)               32896     \n",
      "_________________________________________________________________\n",
      "dropout_50 (Dropout)         (None, 128)               0         \n",
      "_________________________________________________________________\n",
      "dense_57 (Dense)             (None, 128)               16512     \n",
      "_________________________________________________________________\n",
      "dropout_51 (Dropout)         (None, 128)               0         \n",
      "_________________________________________________________________\n",
      "dense_58 (Dense)             (None, 64)                8256      \n",
      "_________________________________________________________________\n",
      "dropout_52 (Dropout)         (None, 64)                0         \n",
      "_________________________________________________________________\n",
      "dense_59 (Dense)             (None, 18)                1170      \n",
      "=================================================================\n",
      "Total params: 2,619,090\n",
      "Trainable params: 2,619,090\n",
      "Non-trainable params: 0\n",
      "_________________________________________________________________\n"
     ]
    }
   ],
   "source": [
    "model = Sequential()\n",
    "model.add(Dense(256, activation='relu', input_dim=vocab))\n",
    "model.add(Dropout(0.5))\n",
    "model.add(Dense(128, activation='relu'))\n",
    "model.add(Dropout(0.5))\n",
    "model.add(Dense(128, activation='relu'))\n",
    "model.add(Dropout(0.5))\n",
    "model.add(Dense(64, activation='relu'))\n",
    "model.add(Dropout(0.3))\n",
    "model.add(Dense(18, activation='sigmoid'))\n",
    "# model.compile(optimizer='adam', loss='binary_crossentropy', metrics=['categorical_accuracy'])\n",
    "model.compile(optimizer='adam', loss='binary_crossentropy', metrics=[\n",
    "    \"top_k_categorical_accuracy\"\n",
    "])\n",
    "\n",
    "callbacks = [\n",
    "    ReduceLROnPlateau(), \n",
    "    EarlyStopping(monitor='val_loss', patience=5), \n",
    "    ModelCheckpoint(filepath='model-simple.h5', save_best_only=True)\n",
    "]\n",
    "\n",
    "model.summary()"
   ]
  },
  {
   "cell_type": "code",
   "execution_count": 180,
   "metadata": {},
   "outputs": [
    {
     "name": "stdout",
     "output_type": "stream",
     "text": [
      "Train on 29452 samples, validate on 3273 samples\n",
      "Epoch 1/20\n",
      "29452/29452 [==============================] - 17s 581us/step - loss: 0.0365 - top_k_categorical_accuracy: 0.6640 - val_loss: 0.0311 - val_top_k_categorical_accuracy: 0.7553\n",
      "Epoch 2/20\n",
      "29452/29452 [==============================] - 14s 480us/step - loss: 0.0312 - top_k_categorical_accuracy: 0.7518 - val_loss: 0.0294 - val_top_k_categorical_accuracy: 0.7690\n",
      "Epoch 3/20\n",
      "29452/29452 [==============================] - 14s 474us/step - loss: 0.0288 - top_k_categorical_accuracy: 0.7809 - val_loss: 0.0292 - val_top_k_categorical_accuracy: 0.8185\n",
      "Epoch 4/20\n",
      "29452/29452 [==============================] - 13s 453us/step - loss: 0.0268 - top_k_categorical_accuracy: 0.8044 - val_loss: 0.0293 - val_top_k_categorical_accuracy: 0.8100\n",
      "Epoch 5/20\n",
      "29452/29452 [==============================] - 14s 469us/step - loss: 0.0252 - top_k_categorical_accuracy: 0.8206 - val_loss: 0.0295 - val_top_k_categorical_accuracy: 0.8185\n",
      "Epoch 6/20\n",
      "29452/29452 [==============================] - 14s 465us/step - loss: 0.0238 - top_k_categorical_accuracy: 0.8332 - val_loss: 0.0302 - val_top_k_categorical_accuracy: 0.8188\n",
      "Epoch 7/20\n",
      "29452/29452 [==============================] - 14s 463us/step - loss: 0.0229 - top_k_categorical_accuracy: 0.8443 - val_loss: 0.0298 - val_top_k_categorical_accuracy: 0.8210\n",
      "Epoch 8/20\n",
      "29452/29452 [==============================] - 14s 463us/step - loss: 0.0221 - top_k_categorical_accuracy: 0.8523 - val_loss: 0.0300 - val_top_k_categorical_accuracy: 0.8185\n"
     ]
    },
    {
     "data": {
      "text/plain": [
       "<keras.callbacks.History at 0x1ecaaa398d0>"
      ]
     },
     "execution_count": 180,
     "metadata": {},
     "output_type": "execute_result"
    }
   ],
   "source": [
    "x_train, x_test, y_train, y_test = train_test_split(x, y, test_size=0.2, random_state=630)\n",
    "model.fit(x_train, y_train,\n",
    "          class_weight=class_weight,\n",
    "          epochs=20,\n",
    "          batch_size=32,\n",
    "          validation_split=0.1,\n",
    "          callbacks=callbacks,\n",
    "          verbose=1)"
   ]
  },
  {
   "cell_type": "code",
   "execution_count": 181,
   "metadata": {},
   "outputs": [
    {
     "name": "stdout",
     "output_type": "stream",
     "text": [
      "8182/8182 [==============================] - 3s 353us/step\n",
      "Accuracy on Test Set: 0.8092153507117041\n"
     ]
    }
   ],
   "source": [
    "model = load_model('model-simple.h5')\n",
    "test_score = model.evaluate(x_test, y_test)\n",
    "print(\"Accuracy on Test Set:\",test_score[1])"
   ]
  },
  {
   "cell_type": "markdown",
   "metadata": {},
   "source": [
    "## Cov1D Net"
   ]
  },
  {
   "cell_type": "code",
   "execution_count": 137,
   "metadata": {},
   "outputs": [],
   "source": [
    "maxlen = 1000\n",
    "max_words = 20000\n",
    "tokenizer = Tokenizer(num_words=max_words, lower=True)\n",
    "tokenizer.fit_on_texts(movies_df['plot_summary'])\n",
    "tokenized = tokenizer.texts_to_sequences(movies_df['plot_summary'])\n",
    "x = pad_sequences(tokenized, maxlen=maxlen)"
   ]
  },
  {
   "cell_type": "code",
   "execution_count": 138,
   "metadata": {},
   "outputs": [
    {
     "name": "stdout",
     "output_type": "stream",
     "text": [
      "_________________________________________________________________\n",
      "Layer (type)                 Output Shape              Param #   \n",
      "=================================================================\n",
      "embedding_1 (Embedding)      (None, 1000, 50)          1000000   \n",
      "_________________________________________________________________\n",
      "conv1d_1 (Conv1D)            (None, 996, 128)          32128     \n",
      "_________________________________________________________________\n",
      "max_pooling1d_1 (MaxPooling1 (None, 498, 128)          0         \n",
      "_________________________________________________________________\n",
      "conv1d_2 (Conv1D)            (None, 494, 128)          82048     \n",
      "_________________________________________________________________\n",
      "max_pooling1d_2 (MaxPooling1 (None, 247, 128)          0         \n",
      "_________________________________________________________________\n",
      "conv1d_3 (Conv1D)            (None, 243, 128)          82048     \n",
      "_________________________________________________________________\n",
      "global_max_pooling1d_1 (Glob (None, 128)               0         \n",
      "_________________________________________________________________\n",
      "dropout_29 (Dropout)         (None, 128)               0         \n",
      "_________________________________________________________________\n",
      "dense_36 (Dense)             (None, 64)                8256      \n",
      "_________________________________________________________________\n",
      "dropout_30 (Dropout)         (None, 64)                0         \n",
      "_________________________________________________________________\n",
      "dense_37 (Dense)             (None, 18)                1170      \n",
      "=================================================================\n",
      "Total params: 1,205,650\n",
      "Trainable params: 1,205,650\n",
      "Non-trainable params: 0\n",
      "_________________________________________________________________\n"
     ]
    }
   ],
   "source": [
    "filter_length = 128\n",
    "\n",
    "model = Sequential()\n",
    "model.add(Embedding(max_words, 50, input_length=maxlen))\n",
    "model.add(Conv1D(filter_length, 5, padding='valid', activation='relu', strides=1))\n",
    "model.add(MaxPool1D())\n",
    "model.add(Conv1D(filter_length, 5, padding='valid', activation='relu', strides=1))\n",
    "model.add(MaxPool1D())\n",
    "model.add(Conv1D(filter_length, 5, padding='valid', activation='relu', strides=1))\n",
    "model.add(GlobalMaxPool1D())\n",
    "model.add(Dropout(0.3))\n",
    "model.add(Dense(64, activation='relu'))\n",
    "model.add(Dropout(0.3))\n",
    "model.add(Dense(18, activation='sigmoid'))\n",
    "\n",
    "model.compile(optimizer='adam', loss='binary_crossentropy', metrics=['top_k_categorical_accuracy'])\n",
    "model.summary()\n",
    "\n",
    "callbacks = [\n",
    "    ReduceLROnPlateau(), \n",
    "    EarlyStopping(patience=5), \n",
    "    ModelCheckpoint(filepath='model-conv1d.h5')\n",
    "]"
   ]
  },
  {
   "cell_type": "code",
   "execution_count": 139,
   "metadata": {},
   "outputs": [
    {
     "name": "stdout",
     "output_type": "stream",
     "text": [
      "Train on 29452 samples, validate on 3273 samples\n",
      "Epoch 1/20\n",
      "29452/29452 [==============================] - 22s 746us/step - loss: 0.0375 - top_k_categorical_accuracy: 0.6247 - val_loss: 0.0330 - val_top_k_categorical_accuracy: 0.7107\n",
      "Epoch 2/20\n",
      "29452/29452 [==============================] - 19s 631us/step - loss: 0.0334 - top_k_categorical_accuracy: 0.7260 - val_loss: 0.0329 - val_top_k_categorical_accuracy: 0.7650\n",
      "Epoch 3/20\n",
      "29452/29452 [==============================] - 19s 633us/step - loss: 0.0317 - top_k_categorical_accuracy: 0.7561 - val_loss: 0.0308 - val_top_k_categorical_accuracy: 0.7715\n",
      "Epoch 4/20\n",
      "29452/29452 [==============================] - 19s 635us/step - loss: 0.0296 - top_k_categorical_accuracy: 0.7850 - val_loss: 0.0309 - val_top_k_categorical_accuracy: 0.7623\n",
      "Epoch 5/20\n",
      "29452/29452 [==============================] - 19s 635us/step - loss: 0.0276 - top_k_categorical_accuracy: 0.7999 - val_loss: 0.0308 - val_top_k_categorical_accuracy: 0.7999\n",
      "Epoch 6/20\n",
      "29452/29452 [==============================] - 19s 636us/step - loss: 0.0258 - top_k_categorical_accuracy: 0.8082 - val_loss: 0.0314 - val_top_k_categorical_accuracy: 0.7925\n",
      "Epoch 7/20\n",
      "29452/29452 [==============================] - 19s 638us/step - loss: 0.0242 - top_k_categorical_accuracy: 0.8211 - val_loss: 0.0329 - val_top_k_categorical_accuracy: 0.7534\n",
      "Epoch 8/20\n",
      "29452/29452 [==============================] - 19s 637us/step - loss: 0.0227 - top_k_categorical_accuracy: 0.8320 - val_loss: 0.0343 - val_top_k_categorical_accuracy: 0.7617\n",
      "Epoch 9/20\n",
      "29452/29452 [==============================] - 19s 641us/step - loss: 0.0214 - top_k_categorical_accuracy: 0.8487 - val_loss: 0.0341 - val_top_k_categorical_accuracy: 0.7507\n",
      "Epoch 10/20\n",
      "29452/29452 [==============================] - 19s 639us/step - loss: 0.0204 - top_k_categorical_accuracy: 0.8575 - val_loss: 0.0357 - val_top_k_categorical_accuracy: 0.7959\n"
     ]
    }
   ],
   "source": [
    "x_train, x_test, y_train, y_test = train_test_split(x, y, test_size=0.2, random_state=630)\n",
    "history = model.fit(x_train, y_train,\n",
    "                    class_weight=class_weight,\n",
    "                    epochs=20,\n",
    "                    batch_size=32,\n",
    "                    validation_split=0.1,\n",
    "                    callbacks=callbacks)"
   ]
  },
  {
   "cell_type": "code",
   "execution_count": 140,
   "metadata": {},
   "outputs": [
    {
     "name": "stdout",
     "output_type": "stream",
     "text": [
      "8182/8182 [==============================] - 2s 202us/step\n",
      "Accuracy on Test Set: 0.791493522395309\n"
     ]
    }
   ],
   "source": [
    "test_score = model.evaluate(x_test, y_test)\n",
    "print(\"Accuracy on Test Set:\",test_score[1])"
   ]
  },
  {
   "cell_type": "markdown",
   "metadata": {},
   "source": [
    "# LSTM Network"
   ]
  },
  {
   "cell_type": "code",
   "execution_count": 182,
   "metadata": {},
   "outputs": [],
   "source": [
    "maxlen = 500\n",
    "max_words = 5000\n",
    "tokenizer = Tokenizer(num_words=max_words, lower=True)\n",
    "tokenizer.fit_on_texts(movies_df['plot_summary'])\n",
    "tokenized = tokenizer.texts_to_sequences(movies_df['plot_summary'])\n",
    "x = pad_sequences(tokenized, maxlen=maxlen)"
   ]
  },
  {
   "cell_type": "code",
   "execution_count": 183,
   "metadata": {},
   "outputs": [
    {
     "name": "stdout",
     "output_type": "stream",
     "text": [
      "_________________________________________________________________\n",
      "Layer (type)                 Output Shape              Param #   \n",
      "=================================================================\n",
      "embedding_5 (Embedding)      (None, 500, 50)           250000    \n",
      "_________________________________________________________________\n",
      "spatial_dropout1d_1 (Spatial (None, 500, 50)           0         \n",
      "_________________________________________________________________\n",
      "bidirectional_5 (Bidirection (None, 500, 64)           21248     \n",
      "_________________________________________________________________\n",
      "dropout_53 (Dropout)         (None, 500, 64)           0         \n",
      "_________________________________________________________________\n",
      "bidirectional_6 (Bidirection (None, 64)                24832     \n",
      "_________________________________________________________________\n",
      "dropout_54 (Dropout)         (None, 64)                0         \n",
      "_________________________________________________________________\n",
      "dense_60 (Dense)             (None, 64)                4160      \n",
      "_________________________________________________________________\n",
      "dense_61 (Dense)             (None, 18)                1170      \n",
      "=================================================================\n",
      "Total params: 301,410\n",
      "Trainable params: 301,410\n",
      "Non-trainable params: 0\n",
      "_________________________________________________________________\n"
     ]
    }
   ],
   "source": [
    "model = Sequential()\n",
    "model.add(Embedding(max_words, 50, input_length=maxlen))\n",
    "model.add(SpatialDropout1D(0.2))\n",
    "model.add(Bidirectional(LSTM(32, return_sequences=True)))\n",
    "model.add(Dropout(0.3))\n",
    "model.add(Bidirectional(LSTM(32)))\n",
    "model.add(Dropout(0.3))\n",
    "model.add(Dense(64))\n",
    "model.add(Dense(18, activation='sigmoid'))\n",
    "model.compile(optimizer='adam', loss='binary_crossentropy', metrics=['top_k_categorical_accuracy'])\n",
    "\n",
    "callbacks = [\n",
    "    ReduceLROnPlateau(), \n",
    "    EarlyStopping(patience=3), \n",
    "    ModelCheckpoint(filepath='model-lstm.h5', save_best_only=True)\n",
    "]\n",
    "\n",
    "model.summary()"
   ]
  },
  {
   "cell_type": "code",
   "execution_count": null,
   "metadata": {},
   "outputs": [],
   "source": [
    "x_train, x_test, y_train, y_test = train_test_split(x, y, test_size=0.2, random_state=630)\n",
    "history = model.fit(x_train, y_train,\n",
    "                    class_weight=class_weight,\n",
    "                    epochs=20,\n",
    "                    batch_size=64,\n",
    "                    validation_split=0.1,\n",
    "                    callbacks=callbacks)"
   ]
  },
  {
   "cell_type": "code",
   "execution_count": null,
   "metadata": {},
   "outputs": [],
   "source": [
    "model = load_model('model-lstm.h5')\n",
    "test_score = model.evaluate(x_test, y_test)\n",
    "print(\"Accuracy on Test Set:\",test_score[1])"
   ]
  },
  {
   "cell_type": "markdown",
   "metadata": {},
   "source": [
    "# HAN Network"
   ]
  },
  {
   "cell_type": "markdown",
   "metadata": {},
   "source": [
    "### Tokenize / Sentence Split"
   ]
  },
  {
   "cell_type": "code",
   "execution_count": 16,
   "metadata": {},
   "outputs": [
    {
     "name": "stdout",
     "output_type": "stream",
     "text": [
      "Wall time: 1.14 s\n"
     ]
    }
   ],
   "source": [
    "%%time\n",
    "movies_df = pd.read_csv(\"movies_cleaned.csv\", index_col=0)\n",
    "movies_df = movies_df[['plot_summary', 'assigned_genres']]\n",
    "# drop all rows with a null value\n",
    "movies_df.dropna(inplace=True)"
   ]
  },
  {
   "cell_type": "code",
   "execution_count": 3,
   "metadata": {},
   "outputs": [
    {
     "name": "stdout",
     "output_type": "stream",
     "text": [
      "Wall time: 45 s\n"
     ]
    }
   ],
   "source": [
    "%%time\n",
    "# There are some html type artifacts left in some of the plots - regex them out\n",
    "movies_df['plot_summary'] = movies_df['plot_summary'].apply(lambda x: re.sub(r\"{{.*?}}|<.*?}}|{{.*?>\", '', x))"
   ]
  },
  {
   "cell_type": "code",
   "execution_count": 4,
   "metadata": {},
   "outputs": [
    {
     "name": "stdout",
     "output_type": "stream",
     "text": [
      "Wall time: 20min 58s\n"
     ]
    }
   ],
   "source": [
    "%%time\n",
    "# remove all proper nouns\n",
    "movies_df['plot_summary'] = movies_df['plot_summary'].apply(lambda x: ' '.join(['<NNP>' if token[1]=='NNP' else token[0] for token in nltk.pos_tag(nltk.word_tokenize(x))]))"
   ]
  },
  {
   "cell_type": "code",
   "execution_count": 5,
   "metadata": {},
   "outputs": [
    {
     "name": "stdout",
     "output_type": "stream",
     "text": [
      "Wall time: 34.8 s\n"
     ]
    }
   ],
   "source": [
    "%%time\n",
    "# split into sentences\n",
    "movies_df['sent_tokenize'] = movies_df['plot_summary'].apply(lambda x: tokenize.sent_tokenize(x))\n",
    "\n",
    "movies_df.reset_index(inplace=True)\n",
    "movies_df.drop(columns=['index'], inplace=True)"
   ]
  },
  {
   "cell_type": "code",
   "execution_count": 20,
   "metadata": {},
   "outputs": [],
   "source": [
    "movies_df['sent_tokenize'] = movies_df['sent_tokenize'].apply(lambda x: '|'.join(x))"
   ]
  },
  {
   "cell_type": "code",
   "execution_count": 30,
   "metadata": {},
   "outputs": [],
   "source": [
    "movies_df.to_csv(\"movies_sent_tokens.csv\")"
   ]
  },
  {
   "cell_type": "code",
   "execution_count": 297,
   "metadata": {},
   "outputs": [],
   "source": [
    "movies_df = pd.read_csv(\"movies_sent_tokens.csv\", index_col=0)"
   ]
  },
  {
   "cell_type": "code",
   "execution_count": 298,
   "metadata": {},
   "outputs": [],
   "source": [
    "movies_df['sent_tokenize'] = movies_df['sent_tokenize'].apply(lambda x: x.split('|'))\n",
    "movies_df['assigned_genres'] = movies_df['assigned_genres'].apply(lambda x: x.split(','))"
   ]
  },
  {
   "cell_type": "code",
   "execution_count": 299,
   "metadata": {},
   "outputs": [
    {
     "data": {
      "text/plain": [
       "count    40907.000000\n",
       "mean        15.916347\n",
       "std         16.784722\n",
       "min          1.000000\n",
       "25%          4.000000\n",
       "50%          9.000000\n",
       "75%         23.000000\n",
       "max        344.000000\n",
       "Name: sent_tokenize, dtype: float64"
      ]
     },
     "execution_count": 299,
     "metadata": {},
     "output_type": "execute_result"
    }
   ],
   "source": [
    "# how many sentences are in a summary on average\n",
    "movies_df['sent_tokenize'].apply(lambda x: len(x)).describe()"
   ]
  },
  {
   "cell_type": "code",
   "execution_count": 300,
   "metadata": {},
   "outputs": [
    {
     "data": {
      "text/plain": [
       "<matplotlib.axes._subplots.AxesSubplot at 0x1ee0d511ac8>"
      ]
     },
     "execution_count": 300,
     "metadata": {},
     "output_type": "execute_result"
    },
    {
     "data": {
      "image/png": "[encoded data removed]",
      "text/plain": [
       "<Figure size 432x288 with 1 Axes>"
      ]
     },
     "metadata": {},
     "output_type": "display_data"
    }
   ],
   "source": [
    "movies_df['sent_tokenize'].apply(lambda x: len(x)).hist(bins=100)"
   ]
  },
  {
   "cell_type": "code",
   "execution_count": 301,
   "metadata": {},
   "outputs": [
    {
     "data": {
      "text/plain": [
       "count    40907.000000\n",
       "mean        28.509539\n",
       "std          9.608177\n",
       "min          3.000000\n",
       "25%         23.000000\n",
       "50%         27.000000\n",
       "75%         32.000000\n",
       "max        348.000000\n",
       "Name: sent_tokenize, dtype: float64"
      ]
     },
     "execution_count": 301,
     "metadata": {},
     "output_type": "execute_result"
    }
   ],
   "source": [
    "# how long are the sentences in a given summary\n",
    "movies_df['sent_tokenize'].apply(lambda x: np.mean([len(s.split()) for s in x])).describe()"
   ]
  },
  {
   "cell_type": "code",
   "execution_count": 302,
   "metadata": {},
   "outputs": [
    {
     "data": {
      "text/plain": [
       "<matplotlib.axes._subplots.AxesSubplot at 0x1edf15d8550>"
      ]
     },
     "execution_count": 302,
     "metadata": {},
     "output_type": "execute_result"
    },
    {
     "data": {
      "image/png": "[encoded data removed]",
      "text/plain": [
       "<Figure size 432x288 with 1 Axes>"
      ]
     },
     "metadata": {},
     "output_type": "display_data"
    }
   ],
   "source": [
    "movies_df['sent_tokenize'].apply(lambda x: np.mean([len(s.split()) for s in x])).hist(bins=100)"
   ]
  },
  {
   "cell_type": "code",
   "execution_count": 303,
   "metadata": {},
   "outputs": [
    {
     "name": "stdout",
     "output_type": "stream",
     "text": [
      "Wall time: 44.7 s\n"
     ]
    }
   ],
   "source": [
    "%%time\n",
    "# some constants for the model\n",
    "max_vocab = 20000\n",
    "max_sentences = 30\n",
    "max_sentence_length = 50\n",
    "\n",
    "# get a vocab for the summaries so we can replace word tokens with an index integer\n",
    "tokenizer = Tokenizer(nb_words=max_vocab)\n",
    "tokenizer.fit_on_texts(movies_df['plot_summary'])\n",
    "\n",
    "# initilize the 3d x matrix with 0s (summary, sentence, word in sentence)\n",
    "x = np.zeros((movies_df.shape[0], max_sentences, max_sentence_length), dtype='int32')\n",
    "\n",
    "# iterate through all of the summaries\n",
    "for i, summary in movies_df.iterrows():\n",
    "    # and sentences in those summaries\n",
    "    for sent_idx, sent in enumerate(summary['sent_tokenize']):\n",
    "        # as long as we are in the first x lines of the summary\n",
    "        if sent_idx < max_sentences:\n",
    "            # tokenize the sentence\n",
    "            tokens = text_to_word_sequence(sent)\n",
    "            word_count=0\n",
    "            for token_idx, token in enumerate(tokens):\n",
    "                # get the index of the token \n",
    "                word_idx = tokenizer.word_index[token]\n",
    "                # as long as we're under the max length for a sentence, add it on\n",
    "                if word_count < max_sentence_length and word_idx<max_vocab:\n",
    "                    x[i, sent_idx, word_count] = word_idx\n",
    "                    word_count+=1"
   ]
  },
  {
   "cell_type": "code",
   "execution_count": 304,
   "metadata": {},
   "outputs": [],
   "source": [
    "# get the labels the same way we did above\n",
    "multilabel_binarizer = MultiLabelBinarizer()\n",
    "multilabel_binarizer.fit(movies_df['assigned_genres'])\n",
    "labels = multilabel_binarizer.classes_\n",
    "y = multilabel_binarizer.transform(movies_df['assigned_genres'])"
   ]
  },
  {
   "cell_type": "code",
   "execution_count": 305,
   "metadata": {},
   "outputs": [],
   "source": [
    "x_train, x_test, y_train, y_test = train_test_split(x, y, test_size=0.2, random_state=630)"
   ]
  },
  {
   "cell_type": "code",
   "execution_count": 152,
   "metadata": {},
   "outputs": [
    {
     "name": "stdout",
     "output_type": "stream",
     "text": [
      "_________________________________________________________________\n",
      "Layer (type)                 Output Shape              Param #   \n",
      "=================================================================\n",
      "summary_input (InputLayer)   (None, 30, 50)            0         \n",
      "_________________________________________________________________\n",
      "time_distributed_2 (TimeDist (None, 30, 64)            2034048   \n",
      "_________________________________________________________________\n",
      "bidirectional_4 (Bidirection (None, 64)                24832     \n",
      "_________________________________________________________________\n",
      "dense_intermediate1 (Dense)  (None, 128)               8320      \n",
      "_________________________________________________________________\n",
      "dropout_33 (Dropout)         (None, 128)               0         \n",
      "_________________________________________________________________\n",
      "dense_intermediate2 (Dense)  (None, 64)                8256      \n",
      "_________________________________________________________________\n",
      "dropout_34 (Dropout)         (None, 64)                0         \n",
      "_________________________________________________________________\n",
      "output (Dense)               (None, 18)                1170      \n",
      "=================================================================\n",
      "Total params: 2,076,626\n",
      "Trainable params: 2,076,626\n",
      "Non-trainable params: 0\n",
      "_________________________________________________________________\n"
     ]
    }
   ],
   "source": [
    "# Keras Functional API Guide: https://keras.io/getting-started/functional-api-guide/\n",
    "\n",
    "# Model adapted from https://medium.com/jatana/report-on-text-classification-using-cnn-rnn-han-f0e887214d5f\n",
    "\n",
    "sentence_input = Input(shape=(max_sentence_length,), dtype='int32', name=\"sentence_input\")\n",
    "embedded_layer = Embedding(max_vocab, 100, input_length=max_sentence_length, trainable=True)\n",
    "embedded_sequences = embedded_layer(sentence_input)\n",
    "l_lstm = Bidirectional(LSTM(32))(embedded_sequences)\n",
    "sent_encoder = Model(sentence_input, l_lstm)\n",
    "\n",
    "summary_input = Input(shape=(max_sentences,max_sentence_length), dtype='int32', name=\"summary_input\")\n",
    "summary_encoder = TimeDistributed(sent_encoder)(summary_input)\n",
    "l_lstm_sent = Bidirectional(LSTM(32))(summary_encoder)\n",
    "\n",
    "dense_int1 = Dense(128, activation='relu', name=\"dense_intermediate1\")(l_lstm_sent)\n",
    "dense_dropout1 = Dropout(0.5)(dense_int1)\n",
    "\n",
    "dense_int2 = Dense(64, activation='relu', name=\"dense_intermediate2\")(dense_dropout1)\n",
    "dense_dropout2 = Dropout(0.5)(dense_int2)\n",
    "\n",
    "preds = Dense(18, activation='sigmoid', name=\"output\")(dense_dropout2)\n",
    "\n",
    "model = Model(summary_input, preds)\n",
    "model.compile(loss='categorical_crossentropy', optimizer='adam', metrics=['top_k_categorical_accuracy'])\n",
    "\n",
    "callbacks = [\n",
    "    EarlyStopping(patience=3), \n",
    "    ModelCheckpoint(filepath='model-han.h5', save_best_only=True)\n",
    "]\n",
    "\n",
    "model.summary()"
   ]
  },
  {
   "cell_type": "code",
   "execution_count": 153,
   "metadata": {},
   "outputs": [
    {
     "name": "stdout",
     "output_type": "stream",
     "text": [
      "Train on 29452 samples, validate on 3273 samples\n",
      "Epoch 1/10\n",
      "29452/29452 [==============================] - 183s 6ms/step - loss: 0.6603 - top_k_categorical_accuracy: 0.6750 - val_loss: 0.6071 - val_top_k_categorical_accuracy: 0.7183\n",
      "Epoch 2/10\n",
      "29452/29452 [==============================] - 178s 6ms/step - loss: 0.6153 - top_k_categorical_accuracy: 0.7421 - val_loss: 0.5979 - val_top_k_categorical_accuracy: 0.7492\n",
      "Epoch 3/10\n",
      "29452/29452 [==============================] - 174s 6ms/step - loss: 0.6012 - top_k_categorical_accuracy: 0.7633 - val_loss: 0.5957 - val_top_k_categorical_accuracy: 0.7721\n",
      "Epoch 4/10\n",
      "29452/29452 [==============================] - 180s 6ms/step - loss: 0.5864 - top_k_categorical_accuracy: 0.7754 - val_loss: 0.5943 - val_top_k_categorical_accuracy: 0.7602\n",
      "Epoch 5/10\n",
      "29452/29452 [==============================] - 179s 6ms/step - loss: 0.5678 - top_k_categorical_accuracy: 0.7917 - val_loss: 0.5860 - val_top_k_categorical_accuracy: 0.7925\n",
      "Epoch 6/10\n",
      "29452/29452 [==============================] - 186s 6ms/step - loss: 0.5537 - top_k_categorical_accuracy: 0.8028 - val_loss: 0.6031 - val_top_k_categorical_accuracy: 0.7666\n",
      "Epoch 7/10\n",
      "29452/29452 [==============================] - 189s 6ms/step - loss: 0.5419 - top_k_categorical_accuracy: 0.8157 - val_loss: 0.6016 - val_top_k_categorical_accuracy: 0.7886\n",
      "Epoch 8/10\n",
      "29452/29452 [==============================] - 186s 6ms/step - loss: 0.5332 - top_k_categorical_accuracy: 0.8282 - val_loss: 0.6236 - val_top_k_categorical_accuracy: 0.7773\n",
      "Epoch 9/10\n",
      "29452/29452 [==============================] - 190s 6ms/step - loss: 0.5250 - top_k_categorical_accuracy: 0.8367 - val_loss: 0.6206 - val_top_k_categorical_accuracy: 0.7776\n",
      "Epoch 10/10\n",
      "29452/29452 [==============================] - 186s 6ms/step - loss: 0.5168 - top_k_categorical_accuracy: 0.8448 - val_loss: 0.6469 - val_top_k_categorical_accuracy: 0.7730\n"
     ]
    }
   ],
   "source": [
    "history = model.fit(x_train, y_train,\n",
    "                    class_weight=class_weight,\n",
    "                    epochs=10,\n",
    "                    batch_size=64,\n",
    "                    validation_split=0.1,\n",
    "                    callbacks=callbacks)"
   ]
  },
  {
   "cell_type": "code",
   "execution_count": 306,
   "metadata": {},
   "outputs": [
    {
     "name": "stdout",
     "output_type": "stream",
     "text": [
      "8182/8182 [==============================] - 29s 4ms/step\n",
      "Accuracy on Test Set: 0.7858714251522911\n"
     ]
    }
   ],
   "source": [
    "model = load_model('model-han.h5')\n",
    "test_score = model.evaluate(x_test, y_test)\n",
    "print(\"Accuracy on Test Set:\",test_score[1])"
   ]
  },
  {
   "cell_type": "markdown",
   "metadata": {},
   "source": [
    "## Simple Neural Net (BP-MLL Loss)\n",
    "Vocab as input, TF-IDF to 20,000 most significant terms\n",
    "\n",
    "BP-MLL Loss function from https://github.com/vanHavel/bp-mll-tensorflow"
   ]
  },
  {
   "cell_type": "code",
   "execution_count": 69,
   "metadata": {},
   "outputs": [],
   "source": [
    "import numpy as np\n",
    "from keras import backend as K\n",
    "\n",
    "# bp mll loss function\n",
    "# y_true, y_pred must be 2D tensors of shape (batch dimension, number of labels)\n",
    "# y_true must satisfy y_true[i][j] == 1 iff sample i has label j\n",
    "def bp_mll_loss(y_true, y_pred):\n",
    "\n",
    "    # get true and false labels\n",
    "    y_i = K.equal(y_true, K.ones_like(y_true))\n",
    "    y_i_bar = K.not_equal(y_true, K.ones_like(y_true))\n",
    "\n",
    "    # cast to float as keras backend has no logical and\n",
    "    y_i = K.cast(y_i, dtype='float32')\n",
    "    y_i_bar = K.cast(y_i_bar, dtype='float32')\n",
    "\n",
    "    # get indices to check\n",
    "    truth_matrix = pairwise_and(y_i, y_i_bar)\n",
    "\n",
    "    # calculate all exp'd differences\n",
    "    sub_matrix = pairwise_sub(y_pred, y_pred)\n",
    "    exp_matrix = K.exp(-sub_matrix)\n",
    "\n",
    "    # check which differences to consider and sum them\n",
    "    sparse_matrix = exp_matrix * truth_matrix\n",
    "    sums = K.sum(sparse_matrix, axis=[1,2])\n",
    "\n",
    "    # get normalizing terms and apply them\n",
    "    y_i_sizes = K.sum(y_i, axis=1)\n",
    "    y_i_bar_sizes = K.sum(y_i_bar, axis=1)\n",
    "    normalizers = y_i_sizes * y_i_bar_sizes\n",
    "    results = sums / normalizers\n",
    "\n",
    "    # average error\n",
    "    return K.mean(results)\n",
    "\n",
    "# compute pairwise differences between elements of the tensors a and b\n",
    "def pairwise_sub(a, b):\n",
    "    column = K.expand_dims(a, 2)\n",
    "    row = K.expand_dims(b, 1)\n",
    "    return column - row\n",
    "\n",
    "# compute pairwise logical and between elements of the tensors a and b\n",
    "def pairwise_and(a, b):\n",
    "    column = K.expand_dims(a, 2)\n",
    "    row = K.expand_dims(b, 1)\n",
    "    return K.minimum(column, row)"
   ]
  },
  {
   "cell_type": "code",
   "execution_count": 70,
   "metadata": {},
   "outputs": [],
   "source": [
    "# load in the cleaned and tokenized dataset\n",
    "movies_df = pd.read_csv(\"movies_tokenized.csv\", index_col=0)[['plot_summary', 'assigned_genres']]\n",
    "# return the genre lables to a list \n",
    "movies_df['assigned_genres'] = movies_df['assigned_genres'].apply(lambda x: x.split(','))\n",
    "# drop all rows with a null value\n",
    "movies_df.dropna(inplace=True)"
   ]
  },
  {
   "cell_type": "code",
   "execution_count": 71,
   "metadata": {},
   "outputs": [
    {
     "name": "stdout",
     "output_type": "stream",
     "text": [
      "Wall time: 1min 2s\n"
     ]
    }
   ],
   "source": [
    "%%time\n",
    "vocab = 10000\n",
    "# select vocab features with TF-IDF\n",
    "tfidf = TfidfVectorizer(max_features=vocab, ngram_range=(1,2))\n",
    "tfidf.fit(movies_df['plot_summary'])\n",
    "x = tfidf.transform(movies_df['plot_summary'])"
   ]
  },
  {
   "cell_type": "code",
   "execution_count": 75,
   "metadata": {},
   "outputs": [
    {
     "name": "stdout",
     "output_type": "stream",
     "text": [
      "_________________________________________________________________\n",
      "Layer (type)                 Output Shape              Param #   \n",
      "=================================================================\n",
      "Input (Dense)                (None, 256)               2560256   \n",
      "_________________________________________________________________\n",
      "Output (Dense)               (None, 18)                4626      \n",
      "=================================================================\n",
      "Total params: 2,564,882\n",
      "Trainable params: 2,564,882\n",
      "Non-trainable params: 0\n",
      "_________________________________________________________________\n"
     ]
    }
   ],
   "source": [
    "model = Sequential()\n",
    "model.add(Dense(256, activation='relu', input_dim=vocab, name=\"Input\"))\n",
    "# model.add(Dropout(0.1, name=\".5_Dropout1\"))\n",
    "# model.add(Dense(128, activation='relu', name=\"Dense_1\"))\n",
    "# model.add(Dropout(0.5, name=\".5_Dropout2\"))\n",
    "# model.add(Dense(64, activation='relu', name=\"Dense_2\"))\n",
    "# model.add(Dropout(0.5, name=\".5_Dropout3\"))\n",
    "# model.add(Dense(32, activation='relu', name=\"Dense_3\"))\n",
    "# model.add(Dropout(0.1, name=\".3_Dropout4\"))\n",
    "model.add(Dense(18, activation='sigmoid', name=\"Output\"))\n",
    "model.compile(optimizer='adam', loss=bp_mll_loss, metrics=['top_k_categorical_accuracy'])\n",
    "\n",
    "callbacks = [\n",
    "    ReduceLROnPlateau(), \n",
    "    EarlyStopping(monitor='val_loss', patience=2), \n",
    "    ModelCheckpoint(filepath='model-simple-bp-mll.h5', save_best_only=True)\n",
    "]\n",
    "\n",
    "model.summary()"
   ]
  },
  {
   "cell_type": "code",
   "execution_count": 73,
   "metadata": {},
   "outputs": [
    {
     "name": "stdout",
     "output_type": "stream",
     "text": [
      "Train on 29452 samples, validate on 3273 samples\n",
      "Epoch 1/20\n",
      "29452/29452 [==============================] - 16s 547us/step - loss: 0.0813 - top_k_categorical_accuracy: 0.8473 - val_loss: 0.0735 - val_top_k_categorical_accuracy: 0.8866\n",
      "Epoch 2/20\n",
      "29452/29452 [==============================] - 13s 454us/step - loss: 0.0687 - top_k_categorical_accuracy: 0.9160 - val_loss: 0.0710 - val_top_k_categorical_accuracy: 0.8967\n",
      "Epoch 3/20\n",
      "29452/29452 [==============================] - 14s 461us/step - loss: 0.0633 - top_k_categorical_accuracy: 0.9441 - val_loss: 0.0704 - val_top_k_categorical_accuracy: 0.8909\n",
      "Epoch 4/20\n",
      "29452/29452 [==============================] - 14s 461us/step - loss: 0.0599 - top_k_categorical_accuracy: 0.9586 - val_loss: 0.0709 - val_top_k_categorical_accuracy: 0.8833\n",
      "Epoch 5/20\n",
      "29452/29452 [==============================] - 13s 448us/step - loss: 0.0574 - top_k_categorical_accuracy: 0.9679 - val_loss: 0.0716 - val_top_k_categorical_accuracy: 0.8900\n"
     ]
    },
    {
     "data": {
      "text/plain": [
       "<keras.callbacks.History at 0x28eb06303c8>"
      ]
     },
     "execution_count": 73,
     "metadata": {},
     "output_type": "execute_result"
    }
   ],
   "source": [
    "x_train, x_test, y_train, y_test = train_test_split(x, y, test_size=0.2, random_state=630)\n",
    "model.fit(x_train, y_train,\n",
    "          class_weight=class_weight,\n",
    "          epochs=20,\n",
    "          batch_size=32,\n",
    "          validation_split=0.1,\n",
    "          callbacks=callbacks,\n",
    "          verbose=1)"
   ]
  },
  {
   "cell_type": "code",
   "execution_count": 74,
   "metadata": {},
   "outputs": [
    {
     "name": "stdout",
     "output_type": "stream",
     "text": [
      "8182/8182 [==============================] - 2s 283us/step\n",
      "Accuracy on Test Set: 0.884991444619994\n"
     ]
    }
   ],
   "source": [
    "model = load_model('model-simple-bp-mll.h5', custom_objects={'bp_mll_loss':bp_mll_loss})\n",
    "test_score = model.evaluate(x_test, y_test)\n",
    "print(\"Accuracy on Test Set:\",test_score[1])"
   ]
  },
  {
   "cell_type": "code",
   "execution_count": 43,
   "metadata": {},
   "outputs": [],
   "source": [
    "plot_model(model, show_shapes=True, show_layer_names=True)"
   ]
  },
  {
   "cell_type": "markdown",
   "metadata": {},
   "source": [
    "## Cov1D Net with BP-MLL"
   ]
  },
  {
   "cell_type": "code",
   "execution_count": 48,
   "metadata": {},
   "outputs": [],
   "source": [
    "maxlen = 1000\n",
    "max_words = 20000\n",
    "tokenizer = Tokenizer(num_words=max_words, lower=True)\n",
    "tokenizer.fit_on_texts(movies_df['plot_summary'])\n",
    "tokenized = tokenizer.texts_to_sequences(movies_df['plot_summary'])\n",
    "x = pad_sequences(tokenized, maxlen=maxlen)"
   ]
  },
  {
   "cell_type": "code",
   "execution_count": 66,
   "metadata": {},
   "outputs": [
    {
     "name": "stdout",
     "output_type": "stream",
     "text": [
      "_________________________________________________________________\n",
      "Layer (type)                 Output Shape              Param #   \n",
      "=================================================================\n",
      "embedding_7 (Embedding)      (None, 1000, 50)          1000000   \n",
      "_________________________________________________________________\n",
      "conv1d_7 (Conv1D)            (None, 996, 128)          32128     \n",
      "_________________________________________________________________\n",
      "global_max_pooling1d_6 (Glob (None, 128)               0         \n",
      "_________________________________________________________________\n",
      "dense_10 (Dense)             (None, 256)               33024     \n",
      "_________________________________________________________________\n",
      "dense_11 (Dense)             (None, 18)                4626      \n",
      "=================================================================\n",
      "Total params: 1,069,778\n",
      "Trainable params: 1,069,778\n",
      "Non-trainable params: 0\n",
      "_________________________________________________________________\n"
     ]
    }
   ],
   "source": [
    "filter_length = 128\n",
    "\n",
    "model = Sequential()\n",
    "model.add(Embedding(max_words, 50, input_length=maxlen))\n",
    "model.add(Conv1D(filter_length, 5, padding='valid', activation='relu', strides=1))\n",
    "# model.add(MaxPool1D())\n",
    "# model.add(Conv1D(filter_length, 5, padding='valid', activation='relu', strides=1))\n",
    "# model.add(MaxPool1D())\n",
    "# model.add(Conv1D(filter_length, 5, padding='valid', activation='relu', strides=1))\n",
    "model.add(GlobalMaxPool1D())\n",
    "\n",
    "model.add(Dense(256, activation='relu'))\n",
    "# model.add(Dropout(0.3))\n",
    "model.add(Dense(18, activation='sigmoid'))\n",
    "\n",
    "model.compile(optimizer='adam', loss=bp_mll_loss, metrics=['top_k_categorical_accuracy'])\n",
    "model.summary()\n",
    "\n",
    "callbacks = [\n",
    "    ReduceLROnPlateau(), \n",
    "    EarlyStopping(patience=2), \n",
    "    ModelCheckpoint(filepath='model-conv1d-bp-mll.h5', save_best_only=True)\n",
    "]"
   ]
  },
  {
   "cell_type": "code",
   "execution_count": 67,
   "metadata": {},
   "outputs": [
    {
     "name": "stdout",
     "output_type": "stream",
     "text": [
      "Train on 29452 samples, validate on 3273 samples\n",
      "Epoch 1/20\n",
      "29452/29452 [==============================] - 14s 465us/step - loss: 0.0893 - top_k_categorical_accuracy: 0.7729 - val_loss: 0.0830 - val_top_k_categorical_accuracy: 0.8469\n",
      "Epoch 2/20\n",
      "29452/29452 [==============================] - 12s 396us/step - loss: 0.0797 - top_k_categorical_accuracy: 0.8493 - val_loss: 0.0785 - val_top_k_categorical_accuracy: 0.8723\n",
      "Epoch 3/20\n",
      "29452/29452 [==============================] - 12s 395us/step - loss: 0.0742 - top_k_categorical_accuracy: 0.8855 - val_loss: 0.0773 - val_top_k_categorical_accuracy: 0.8656\n",
      "Epoch 4/20\n",
      "29452/29452 [==============================] - 12s 394us/step - loss: 0.0705 - top_k_categorical_accuracy: 0.9067 - val_loss: 0.0772 - val_top_k_categorical_accuracy: 0.8592\n",
      "Epoch 5/20\n",
      "29452/29452 [==============================] - 12s 393us/step - loss: 0.0674 - top_k_categorical_accuracy: 0.9254 - val_loss: 0.0774 - val_top_k_categorical_accuracy: 0.8442\n",
      "Epoch 6/20\n",
      "29452/29452 [==============================] - 12s 395us/step - loss: 0.0647 - top_k_categorical_accuracy: 0.9360 - val_loss: 0.0779 - val_top_k_categorical_accuracy: 0.8521\n"
     ]
    }
   ],
   "source": [
    "x_train, x_test, y_train, y_test = train_test_split(x, y, test_size=0.2, random_state=630)\n",
    "history = model.fit(x_train, y_train,\n",
    "                    class_weight=class_weight,\n",
    "                    epochs=20,\n",
    "                    batch_size=32,\n",
    "                    validation_split=0.1,\n",
    "                    callbacks=callbacks)"
   ]
  },
  {
   "cell_type": "code",
   "execution_count": 68,
   "metadata": {},
   "outputs": [
    {
     "name": "stdout",
     "output_type": "stream",
     "text": [
      "8182/8182 [==============================] - 2s 202us/step\n",
      "Accuracy on Test Set: 0.8648252260915168\n"
     ]
    }
   ],
   "source": [
    "model = load_model('model-conv1d-bp-mll.h5', custom_objects={'bp_mll_loss':bp_mll_loss})\n",
    "test_score = model.evaluate(x_test, y_test)\n",
    "print(\"Accuracy on Test Set:\",test_score[1])"
   ]
  },
  {
   "cell_type": "markdown",
   "metadata": {},
   "source": [
    "# HAN with BP-MLL"
   ]
  },
  {
   "cell_type": "code",
   "execution_count": 317,
   "metadata": {},
   "outputs": [],
   "source": [
    "movies_df = pd.read_csv(\"movies_sent_tokens.csv\", index_col=0)\n",
    "movies_df['sent_tokenize'] = movies_df['sent_tokenize'].apply(lambda x: x.split('|'))\n",
    "movies_df['assigned_genres'] = movies_df['assigned_genres'].apply(lambda x: x.split(','))"
   ]
  },
  {
   "cell_type": "code",
   "execution_count": 318,
   "metadata": {},
   "outputs": [
    {
     "name": "stdout",
     "output_type": "stream",
     "text": [
      "Wall time: 42.9 s\n"
     ]
    }
   ],
   "source": [
    "%%time\n",
    "# some constants for the model\n",
    "max_vocab = 20000\n",
    "max_sentences = 30\n",
    "max_sentence_length = 50\n",
    "\n",
    "# get a vocab for the summaries so we can replace word tokens with an index integer\n",
    "tokenizer = Tokenizer(nb_words=max_vocab)\n",
    "tokenizer.fit_on_texts(movies_df['plot_summary'])\n",
    "\n",
    "# initilize the 3d x matrix with 0s (summary, sentence, word in sentence)\n",
    "x = np.zeros((movies_df.shape[0], max_sentences, max_sentence_length), dtype='int32')\n",
    "\n",
    "# iterate through all of the summaries\n",
    "for i, summary in movies_df.iterrows():\n",
    "    # and sentences in those summaries\n",
    "    for sent_idx, sent in enumerate(summary['sent_tokenize']):\n",
    "        # as long as we are in the first x lines of the summary\n",
    "        if sent_idx < max_sentences:\n",
    "            # tokenize the sentence\n",
    "            tokens = text_to_word_sequence(sent)\n",
    "            word_count=0\n",
    "            for token_idx, token in enumerate(tokens):\n",
    "                # get the index of the token \n",
    "                word_idx = tokenizer.word_index[token]\n",
    "                # as long as we're under the max length for a sentence, add it on\n",
    "                if word_count < max_sentence_length and word_idx<max_vocab:\n",
    "                    x[i, sent_idx, word_count] = word_idx\n",
    "                    word_count+=1"
   ]
  },
  {
   "cell_type": "code",
   "execution_count": 319,
   "metadata": {},
   "outputs": [],
   "source": [
    "# get the labels the same way we did above\n",
    "multilabel_binarizer = MultiLabelBinarizer()\n",
    "multilabel_binarizer.fit(movies_df['assigned_genres'])\n",
    "labels = multilabel_binarizer.classes_\n",
    "y = multilabel_binarizer.transform(movies_df['assigned_genres'])"
   ]
  },
  {
   "cell_type": "code",
   "execution_count": 320,
   "metadata": {},
   "outputs": [],
   "source": [
    "x_train, x_test, y_train, y_test = train_test_split(x, y, test_size=0.2, random_state=630)"
   ]
  },
  {
   "cell_type": "code",
   "execution_count": 321,
   "metadata": {},
   "outputs": [
    {
     "name": "stdout",
     "output_type": "stream",
     "text": [
      "_________________________________________________________________\n",
      "Layer (type)                 Output Shape              Param #   \n",
      "=================================================================\n",
      "summary_input (InputLayer)   (None, 30, 50)            0         \n",
      "_________________________________________________________________\n",
      "time_distributed_3 (TimeDist (None, 30, 64)            2034048   \n",
      "_________________________________________________________________\n",
      "bidirectional_8 (Bidirection (None, 64)                24832     \n",
      "_________________________________________________________________\n",
      "dense_intermediate1 (Dense)  (None, 128)               8320      \n",
      "_________________________________________________________________\n",
      "dropout_59 (Dropout)         (None, 128)               0         \n",
      "_________________________________________________________________\n",
      "dense_intermediate2 (Dense)  (None, 64)                8256      \n",
      "_________________________________________________________________\n",
      "dropout_60 (Dropout)         (None, 64)                0         \n",
      "_________________________________________________________________\n",
      "output (Dense)               (None, 18)                1170      \n",
      "=================================================================\n",
      "Total params: 2,076,626\n",
      "Trainable params: 2,076,626\n",
      "Non-trainable params: 0\n",
      "_________________________________________________________________\n"
     ]
    }
   ],
   "source": [
    "# Keras Functional API Guide: https://keras.io/getting-started/functional-api-guide/\n",
    "\n",
    "# Model adapted from https://medium.com/jatana/report-on-text-classification-using-cnn-rnn-han-f0e887214d5f\n",
    "\n",
    "sentence_input = Input(shape=(max_sentence_length,), dtype='int32', name=\"sentence_input\")\n",
    "embedded_layer = Embedding(max_vocab, 100, input_length=max_sentence_length, trainable=True)\n",
    "embedded_sequences = embedded_layer(sentence_input)\n",
    "l_lstm = Bidirectional(LSTM(32))(embedded_sequences)\n",
    "sent_encoder = Model(sentence_input, l_lstm)\n",
    "\n",
    "summary_input = Input(shape=(max_sentences,max_sentence_length), dtype='int32', name=\"summary_input\")\n",
    "summary_encoder = TimeDistributed(sent_encoder)(summary_input)\n",
    "l_lstm_sent = Bidirectional(LSTM(32))(summary_encoder)\n",
    "\n",
    "dense_int1 = Dense(128, activation='relu', name=\"dense_intermediate1\")(l_lstm_sent)\n",
    "dense_dropout1 = Dropout(0.5)(dense_int1)\n",
    "\n",
    "dense_int2 = Dense(64, activation='relu', name=\"dense_intermediate2\")(dense_dropout1)\n",
    "dense_dropout2 = Dropout(0.5)(dense_int2)\n",
    "\n",
    "preds = Dense(18, activation='sigmoid', name=\"output\")(dense_dropout2)\n",
    "\n",
    "model = Model(summary_input, preds)\n",
    "model.compile(loss=bp_mll_loss, optimizer='adam', metrics=['top_k_categorical_accuracy'])\n",
    "\n",
    "callbacks = [\n",
    "    EarlyStopping(patience=3), \n",
    "    ModelCheckpoint(filepath='model-han-bp-mll.h5', save_best_only=True)\n",
    "]\n",
    "\n",
    "model.summary()"
   ]
  },
  {
   "cell_type": "code",
   "execution_count": 322,
   "metadata": {},
   "outputs": [
    {
     "name": "stdout",
     "output_type": "stream",
     "text": [
      "Train on 29452 samples, validate on 3273 samples\n",
      "Epoch 1/10\n",
      "29452/29452 [==============================] - 185s 6ms/step - loss: 0.0974 - top_k_categorical_accuracy: 0.6916 - val_loss: 0.0915 - val_top_k_categorical_accuracy: 0.7715\n",
      "Epoch 2/10\n",
      "29452/29452 [==============================] - 178s 6ms/step - loss: 0.0897 - top_k_categorical_accuracy: 0.7779 - val_loss: 0.0857 - val_top_k_categorical_accuracy: 0.7932\n",
      "Epoch 3/10\n",
      "29452/29452 [==============================] - 180s 6ms/step - loss: 0.0842 - top_k_categorical_accuracy: 0.8204 - val_loss: 0.0822 - val_top_k_categorical_accuracy: 0.8399\n",
      "Epoch 4/10\n",
      "29452/29452 [==============================] - 176s 6ms/step - loss: 0.0807 - top_k_categorical_accuracy: 0.8498 - val_loss: 0.0816 - val_top_k_categorical_accuracy: 0.8405\n",
      "Epoch 5/10\n",
      "29452/29452 [==============================] - 172s 6ms/step - loss: 0.0786 - top_k_categorical_accuracy: 0.8660 - val_loss: 0.0812 - val_top_k_categorical_accuracy: 0.8384\n",
      "Epoch 6/10\n",
      "29452/29452 [==============================] - 181s 6ms/step - loss: 0.0770 - top_k_categorical_accuracy: 0.8766 - val_loss: 0.0815 - val_top_k_categorical_accuracy: 0.8222\n",
      "Epoch 7/10\n",
      "29452/29452 [==============================] - 178s 6ms/step - loss: 0.0757 - top_k_categorical_accuracy: 0.8869 - val_loss: 0.0810 - val_top_k_categorical_accuracy: 0.8433\n",
      "Epoch 8/10\n",
      "29452/29452 [==============================] - 183s 6ms/step - loss: 0.0744 - top_k_categorical_accuracy: 0.8940 - val_loss: 0.0809 - val_top_k_categorical_accuracy: 0.8350\n",
      "Epoch 9/10\n",
      "29452/29452 [==============================] - 178s 6ms/step - loss: 0.0731 - top_k_categorical_accuracy: 0.9007 - val_loss: 0.0807 - val_top_k_categorical_accuracy: 0.8323\n",
      "Epoch 10/10\n",
      "29452/29452 [==============================] - 177s 6ms/step - loss: 0.0725 - top_k_categorical_accuracy: 0.9023 - val_loss: 0.0803 - val_top_k_categorical_accuracy: 0.8344\n"
     ]
    }
   ],
   "source": [
    "history = model.fit(x_train, y_train,\n",
    "                    class_weight=class_weight,\n",
    "                    epochs=10,\n",
    "                    batch_size=64,\n",
    "                    validation_split=0.1,\n",
    "                    callbacks=callbacks)"
   ]
  },
  {
   "cell_type": "code",
   "execution_count": 324,
   "metadata": {},
   "outputs": [
    {
     "name": "stdout",
     "output_type": "stream",
     "text": [
      "8182/8182 [==============================] - 26s 3ms/step\n",
      "Accuracy on Test Set: 0.8306037643899313\n"
     ]
    }
   ],
   "source": [
    "model = load_model('model-han-bp-mll.h5', custom_objects={'bp_mll_loss':bp_mll_loss})\n",
    "test_score = model.evaluate(x_test, y_test)\n",
    "print(\"Accuracy on Test Set:\",test_score[1])"
   ]
  },
  {
   "cell_type": "markdown",
   "metadata": {},
   "source": [
    "# Results"
   ]
  },
  {
   "cell_type": "code",
   "execution_count": 76,
   "metadata": {},
   "outputs": [
    {
     "data": {
      "image/png": "[encoded data removed]",
      "text/plain": [
       "<Figure size 432x288 with 1 Axes>"
      ]
     },
     "metadata": {},
     "output_type": "display_data"
    }
   ],
   "source": [
    "results = {\n",
    "    \"Random\":0.33253483255927646,\n",
    "    \"LDA Probabilities\":0.5674407235394768,\n",
    "    \"Binary Relevance\":0.664458567587387,\n",
    "    \"Dense Neural Net\":0.8092153507117041,\n",
    "    \"Dense Neural Net (BP-MLL)\":0.8859692007572777,\n",
    "    \"Convolutional Neural Net\":0.791493522395309,\n",
    "    \"Convolutional Neural Net (BP-MLL)\":0.8648252260915168,\n",
    "    \"Attention Neural Net\":0.7858714251522911,\n",
    "    \"Attention Neural Net (BP-MLL)\":0.8306037643899313\n",
    "}\n",
    "results = pd.DataFrame([results], columns=results.keys(), index=['Categorical Accuracy']).transpose()\n",
    "results = results.sort_values(\"Categorical Accuracy\")\n",
    "fig, ax = plt.subplots()\n",
    "fig.set_size_inches(6,4)\n",
    "g = sns.barplot(x='Categorical Accuracy', y=results.index, data=results, palette=\"Greens\", ax=ax)\n",
    "g.set_title(\"Top-5 Categorical Accuracy by Method\")\n",
    "g.set_xlabel(\"Categorical Accuracy on Test Set\")\n",
    "plt.savefig(\"results.png\", bbox_inches='tight')"
   ]
  },
  {
   "cell_type": "markdown",
   "metadata": {},
   "source": [
    "# Error Analysis"
   ]
  },
  {
   "cell_type": "code",
   "execution_count": 77,
   "metadata": {},
   "outputs": [],
   "source": [
    "# load in the cleaned and tokenized dataset\n",
    "movies_df = pd.read_csv(\"movies_tokenized.csv\", index_col=0)[['plot_summary', 'assigned_genres']]\n",
    "# return the genre lables to a list \n",
    "movies_df['assigned_genres'] = movies_df['assigned_genres'].apply(lambda x: x.split(','))\n",
    "# drop all rows with a null value\n",
    "movies_df.dropna(inplace=True)"
   ]
  },
  {
   "cell_type": "code",
   "execution_count": 78,
   "metadata": {},
   "outputs": [],
   "source": [
    "movies_df = movies_df.merge(pd.read_csv(\"movies_cleaned.csv\", index_col=0)[['name']], left_index=True, right_index=True)"
   ]
  },
  {
   "cell_type": "code",
   "execution_count": 79,
   "metadata": {},
   "outputs": [],
   "source": [
    "vocab = 10000\n",
    "# select vocab features with TF-IDF\n",
    "tfidf = TfidfVectorizer(max_features=vocab, ngram_range=(1,2))\n",
    "tfidf.fit(movies_df['plot_summary'])\n",
    "x = tfidf.transform(movies_df['plot_summary'])"
   ]
  },
  {
   "cell_type": "code",
   "execution_count": 80,
   "metadata": {},
   "outputs": [],
   "source": [
    "model = load_model('model-simple-bp-mll.h5', custom_objects={'bp_mll_loss':bp_mll_loss})"
   ]
  },
  {
   "cell_type": "code",
   "execution_count": 81,
   "metadata": {},
   "outputs": [
    {
     "name": "stdout",
     "output_type": "stream",
     "text": [
      "40907/40907 [==============================] - 8s 198us/step\n"
     ]
    }
   ],
   "source": [
    "pred_y = (model.predict(x, verbose=1) > 0.5).astype(int)"
   ]
  },
  {
   "cell_type": "code",
   "execution_count": 82,
   "metadata": {},
   "outputs": [],
   "source": [
    "y = multilabel_binarizer.transform(movies_df['assigned_genres'])"
   ]
  },
  {
   "cell_type": "code",
   "execution_count": 83,
   "metadata": {},
   "outputs": [],
   "source": [
    "temp_df = pd.DataFrame(y, columns=[\"true_\"+x for x in labels]).merge(pd.DataFrame(pred_y, columns=[\"pred_\"+x for x in labels]), left_index=True, right_index=True)"
   ]
  },
  {
   "cell_type": "code",
   "execution_count": 84,
   "metadata": {},
   "outputs": [],
   "source": [
    "movies_df.reset_index(inplace=True)"
   ]
  },
  {
   "cell_type": "code",
   "execution_count": 85,
   "metadata": {},
   "outputs": [],
   "source": [
    "movies_df = movies_df.merge(temp_df, left_index=True, right_index=True)"
   ]
  },
  {
   "cell_type": "code",
   "execution_count": 86,
   "metadata": {},
   "outputs": [],
   "source": [
    "movies_df['accuracy'] = 0"
   ]
  },
  {
   "cell_type": "code",
   "execution_count": 103,
   "metadata": {},
   "outputs": [
    {
     "name": "stdout",
     "output_type": "stream",
     "text": [
      "0\n",
      "10000\n",
      "20000\n",
      "30000\n",
      "40000\n"
     ]
    }
   ],
   "source": [
    "for i,movie in movies_df.iterrows():\n",
    "    true = movie[4:22].values\n",
    "    pred = movie[22:40].values\n",
    "    acc = top_k_categorical_accuracy(y_pred=pred, y_true=true)\n",
    "    movies_df.loc[i,'accuracy'] = acc\n",
    "    if i % 10000 == 0:\n",
    "        print(i)"
   ]
  },
  {
   "cell_type": "code",
   "execution_count": 88,
   "metadata": {},
   "outputs": [],
   "source": [
    "movies_df['plot_len'] = movies_df['plot_summary'].apply(lambda x: len(x.split()))"
   ]
  },
  {
   "cell_type": "code",
   "execution_count": 89,
   "metadata": {},
   "outputs": [],
   "source": [
    "movies_df['num_genres'] = movies_df['assigned_genres'].apply(lambda x: len(x))"
   ]
  },
  {
   "cell_type": "code",
   "execution_count": 90,
   "metadata": {},
   "outputs": [],
   "source": [
    "good_predictions = movies_df[movies_df['accuracy'] == 1.0]"
   ]
  },
  {
   "cell_type": "code",
   "execution_count": 91,
   "metadata": {},
   "outputs": [],
   "source": [
    "bad_predictions = movies_df[movies_df['accuracy'] == 0.0]"
   ]
  },
  {
   "cell_type": "code",
   "execution_count": 92,
   "metadata": {},
   "outputs": [
    {
     "data": {
      "text/html": [
       "<div>\n",
       "<style scoped>\n",
       "    .dataframe tbody tr th:only-of-type {\n",
       "        vertical-align: middle;\n",
       "    }\n",
       "\n",
       "    .dataframe tbody tr th {\n",
       "        vertical-align: top;\n",
       "    }\n",
       "\n",
       "    .dataframe thead th {\n",
       "        text-align: right;\n",
       "    }\n",
       "</style>\n",
       "<table border=\"1\" class=\"dataframe\">\n",
       "  <thead>\n",
       "    <tr style=\"text-align: right;\">\n",
       "      <th></th>\n",
       "      <th>index</th>\n",
       "      <th>true_Action</th>\n",
       "      <th>true_Adventure</th>\n",
       "      <th>true_Animated</th>\n",
       "      <th>true_Comedy</th>\n",
       "      <th>true_Documentary</th>\n",
       "      <th>true_Drama</th>\n",
       "      <th>true_Family</th>\n",
       "      <th>true_Fantasy</th>\n",
       "      <th>true_Horror</th>\n",
       "      <th>...</th>\n",
       "      <th>pred_Mystery</th>\n",
       "      <th>pred_Romance</th>\n",
       "      <th>pred_Science Fiction</th>\n",
       "      <th>pred_Teen</th>\n",
       "      <th>pred_Thriller</th>\n",
       "      <th>pred_Western</th>\n",
       "      <th>pred_World Cinema</th>\n",
       "      <th>accuracy</th>\n",
       "      <th>plot_len</th>\n",
       "      <th>num_genres</th>\n",
       "    </tr>\n",
       "  </thead>\n",
       "  <tbody>\n",
       "    <tr>\n",
       "      <th>count</th>\n",
       "      <td>3.138000e+03</td>\n",
       "      <td>3138.000000</td>\n",
       "      <td>3138.000000</td>\n",
       "      <td>3138.000000</td>\n",
       "      <td>3138.000000</td>\n",
       "      <td>3138.000000</td>\n",
       "      <td>3138.000000</td>\n",
       "      <td>3138.000000</td>\n",
       "      <td>3138.000000</td>\n",
       "      <td>3138.000000</td>\n",
       "      <td>...</td>\n",
       "      <td>3138.000000</td>\n",
       "      <td>3138.000000</td>\n",
       "      <td>3138.000000</td>\n",
       "      <td>3138.0</td>\n",
       "      <td>3138.000000</td>\n",
       "      <td>3138.000000</td>\n",
       "      <td>3138.000000</td>\n",
       "      <td>3138.0</td>\n",
       "      <td>3138.000000</td>\n",
       "      <td>3138.000000</td>\n",
       "    </tr>\n",
       "    <tr>\n",
       "      <th>mean</th>\n",
       "      <td>1.265751e+07</td>\n",
       "      <td>0.252709</td>\n",
       "      <td>0.176227</td>\n",
       "      <td>0.118866</td>\n",
       "      <td>0.497451</td>\n",
       "      <td>0.011791</td>\n",
       "      <td>0.784576</td>\n",
       "      <td>0.148821</td>\n",
       "      <td>0.047164</td>\n",
       "      <td>0.065010</td>\n",
       "      <td>...</td>\n",
       "      <td>0.051625</td>\n",
       "      <td>0.330465</td>\n",
       "      <td>0.071383</td>\n",
       "      <td>0.0</td>\n",
       "      <td>0.197578</td>\n",
       "      <td>0.028362</td>\n",
       "      <td>0.320268</td>\n",
       "      <td>1.0</td>\n",
       "      <td>362.095602</td>\n",
       "      <td>3.285532</td>\n",
       "    </tr>\n",
       "    <tr>\n",
       "      <th>std</th>\n",
       "      <td>1.059789e+07</td>\n",
       "      <td>0.434635</td>\n",
       "      <td>0.381074</td>\n",
       "      <td>0.323682</td>\n",
       "      <td>0.500073</td>\n",
       "      <td>0.107961</td>\n",
       "      <td>0.411182</td>\n",
       "      <td>0.355969</td>\n",
       "      <td>0.212023</td>\n",
       "      <td>0.246582</td>\n",
       "      <td>...</td>\n",
       "      <td>0.221304</td>\n",
       "      <td>0.470456</td>\n",
       "      <td>0.257505</td>\n",
       "      <td>0.0</td>\n",
       "      <td>0.398236</td>\n",
       "      <td>0.166031</td>\n",
       "      <td>0.466654</td>\n",
       "      <td>0.0</td>\n",
       "      <td>320.584800</td>\n",
       "      <td>1.102084</td>\n",
       "    </tr>\n",
       "    <tr>\n",
       "      <th>min</th>\n",
       "      <td>4.726000e+03</td>\n",
       "      <td>0.000000</td>\n",
       "      <td>0.000000</td>\n",
       "      <td>0.000000</td>\n",
       "      <td>0.000000</td>\n",
       "      <td>0.000000</td>\n",
       "      <td>0.000000</td>\n",
       "      <td>0.000000</td>\n",
       "      <td>0.000000</td>\n",
       "      <td>0.000000</td>\n",
       "      <td>...</td>\n",
       "      <td>0.000000</td>\n",
       "      <td>0.000000</td>\n",
       "      <td>0.000000</td>\n",
       "      <td>0.0</td>\n",
       "      <td>0.000000</td>\n",
       "      <td>0.000000</td>\n",
       "      <td>0.000000</td>\n",
       "      <td>1.0</td>\n",
       "      <td>15.000000</td>\n",
       "      <td>1.000000</td>\n",
       "    </tr>\n",
       "    <tr>\n",
       "      <th>25%</th>\n",
       "      <td>3.171652e+06</td>\n",
       "      <td>0.000000</td>\n",
       "      <td>0.000000</td>\n",
       "      <td>0.000000</td>\n",
       "      <td>0.000000</td>\n",
       "      <td>0.000000</td>\n",
       "      <td>1.000000</td>\n",
       "      <td>0.000000</td>\n",
       "      <td>0.000000</td>\n",
       "      <td>0.000000</td>\n",
       "      <td>...</td>\n",
       "      <td>0.000000</td>\n",
       "      <td>0.000000</td>\n",
       "      <td>0.000000</td>\n",
       "      <td>0.0</td>\n",
       "      <td>0.000000</td>\n",
       "      <td>0.000000</td>\n",
       "      <td>0.000000</td>\n",
       "      <td>1.0</td>\n",
       "      <td>112.000000</td>\n",
       "      <td>3.000000</td>\n",
       "    </tr>\n",
       "    <tr>\n",
       "      <th>50%</th>\n",
       "      <td>9.710182e+06</td>\n",
       "      <td>0.000000</td>\n",
       "      <td>0.000000</td>\n",
       "      <td>0.000000</td>\n",
       "      <td>0.000000</td>\n",
       "      <td>0.000000</td>\n",
       "      <td>1.000000</td>\n",
       "      <td>0.000000</td>\n",
       "      <td>0.000000</td>\n",
       "      <td>0.000000</td>\n",
       "      <td>...</td>\n",
       "      <td>0.000000</td>\n",
       "      <td>0.000000</td>\n",
       "      <td>0.000000</td>\n",
       "      <td>0.0</td>\n",
       "      <td>0.000000</td>\n",
       "      <td>0.000000</td>\n",
       "      <td>0.000000</td>\n",
       "      <td>1.0</td>\n",
       "      <td>255.000000</td>\n",
       "      <td>3.000000</td>\n",
       "    </tr>\n",
       "    <tr>\n",
       "      <th>75%</th>\n",
       "      <td>2.091423e+07</td>\n",
       "      <td>1.000000</td>\n",
       "      <td>0.000000</td>\n",
       "      <td>0.000000</td>\n",
       "      <td>1.000000</td>\n",
       "      <td>0.000000</td>\n",
       "      <td>1.000000</td>\n",
       "      <td>0.000000</td>\n",
       "      <td>0.000000</td>\n",
       "      <td>0.000000</td>\n",
       "      <td>...</td>\n",
       "      <td>0.000000</td>\n",
       "      <td>1.000000</td>\n",
       "      <td>0.000000</td>\n",
       "      <td>0.0</td>\n",
       "      <td>0.000000</td>\n",
       "      <td>0.000000</td>\n",
       "      <td>1.000000</td>\n",
       "      <td>1.0</td>\n",
       "      <td>565.750000</td>\n",
       "      <td>4.000000</td>\n",
       "    </tr>\n",
       "    <tr>\n",
       "      <th>max</th>\n",
       "      <td>3.721033e+07</td>\n",
       "      <td>1.000000</td>\n",
       "      <td>1.000000</td>\n",
       "      <td>1.000000</td>\n",
       "      <td>1.000000</td>\n",
       "      <td>1.000000</td>\n",
       "      <td>1.000000</td>\n",
       "      <td>1.000000</td>\n",
       "      <td>1.000000</td>\n",
       "      <td>1.000000</td>\n",
       "      <td>...</td>\n",
       "      <td>1.000000</td>\n",
       "      <td>1.000000</td>\n",
       "      <td>1.000000</td>\n",
       "      <td>0.0</td>\n",
       "      <td>1.000000</td>\n",
       "      <td>1.000000</td>\n",
       "      <td>1.000000</td>\n",
       "      <td>1.0</td>\n",
       "      <td>3141.000000</td>\n",
       "      <td>8.000000</td>\n",
       "    </tr>\n",
       "  </tbody>\n",
       "</table>\n",
       "<p>8 rows × 40 columns</p>\n",
       "</div>"
      ],
      "text/plain": [
       "              index  true_Action  true_Adventure  true_Animated  true_Comedy  \\\n",
       "count  3.138000e+03  3138.000000     3138.000000    3138.000000  3138.000000   \n",
       "mean   1.265751e+07     0.252709        0.176227       0.118866     0.497451   \n",
       "std    1.059789e+07     0.434635        0.381074       0.323682     0.500073   \n",
       "min    4.726000e+03     0.000000        0.000000       0.000000     0.000000   \n",
       "25%    3.171652e+06     0.000000        0.000000       0.000000     0.000000   \n",
       "50%    9.710182e+06     0.000000        0.000000       0.000000     0.000000   \n",
       "75%    2.091423e+07     1.000000        0.000000       0.000000     1.000000   \n",
       "max    3.721033e+07     1.000000        1.000000       1.000000     1.000000   \n",
       "\n",
       "       true_Documentary   true_Drama  true_Family  true_Fantasy  true_Horror  \\\n",
       "count       3138.000000  3138.000000  3138.000000   3138.000000  3138.000000   \n",
       "mean           0.011791     0.784576     0.148821      0.047164     0.065010   \n",
       "std            0.107961     0.411182     0.355969      0.212023     0.246582   \n",
       "min            0.000000     0.000000     0.000000      0.000000     0.000000   \n",
       "25%            0.000000     1.000000     0.000000      0.000000     0.000000   \n",
       "50%            0.000000     1.000000     0.000000      0.000000     0.000000   \n",
       "75%            0.000000     1.000000     0.000000      0.000000     0.000000   \n",
       "max            1.000000     1.000000     1.000000      1.000000     1.000000   \n",
       "\n",
       "          ...       pred_Mystery  pred_Romance  pred_Science Fiction  \\\n",
       "count     ...        3138.000000   3138.000000           3138.000000   \n",
       "mean      ...           0.051625      0.330465              0.071383   \n",
       "std       ...           0.221304      0.470456              0.257505   \n",
       "min       ...           0.000000      0.000000              0.000000   \n",
       "25%       ...           0.000000      0.000000              0.000000   \n",
       "50%       ...           0.000000      0.000000              0.000000   \n",
       "75%       ...           0.000000      1.000000              0.000000   \n",
       "max       ...           1.000000      1.000000              1.000000   \n",
       "\n",
       "       pred_Teen  pred_Thriller  pred_Western  pred_World Cinema  accuracy  \\\n",
       "count     3138.0    3138.000000   3138.000000        3138.000000    3138.0   \n",
       "mean         0.0       0.197578      0.028362           0.320268       1.0   \n",
       "std          0.0       0.398236      0.166031           0.466654       0.0   \n",
       "min          0.0       0.000000      0.000000           0.000000       1.0   \n",
       "25%          0.0       0.000000      0.000000           0.000000       1.0   \n",
       "50%          0.0       0.000000      0.000000           0.000000       1.0   \n",
       "75%          0.0       0.000000      0.000000           1.000000       1.0   \n",
       "max          0.0       1.000000      1.000000           1.000000       1.0   \n",
       "\n",
       "          plot_len   num_genres  \n",
       "count  3138.000000  3138.000000  \n",
       "mean    362.095602     3.285532  \n",
       "std     320.584800     1.102084  \n",
       "min      15.000000     1.000000  \n",
       "25%     112.000000     3.000000  \n",
       "50%     255.000000     3.000000  \n",
       "75%     565.750000     4.000000  \n",
       "max    3141.000000     8.000000  \n",
       "\n",
       "[8 rows x 40 columns]"
      ]
     },
     "execution_count": 92,
     "metadata": {},
     "output_type": "execute_result"
    }
   ],
   "source": [
    "good_predictions.describe()"
   ]
  },
  {
   "cell_type": "code",
   "execution_count": 93,
   "metadata": {},
   "outputs": [
    {
     "data": {
      "text/html": [
       "<div>\n",
       "<style scoped>\n",
       "    .dataframe tbody tr th:only-of-type {\n",
       "        vertical-align: middle;\n",
       "    }\n",
       "\n",
       "    .dataframe tbody tr th {\n",
       "        vertical-align: top;\n",
       "    }\n",
       "\n",
       "    .dataframe thead th {\n",
       "        text-align: right;\n",
       "    }\n",
       "</style>\n",
       "<table border=\"1\" class=\"dataframe\">\n",
       "  <thead>\n",
       "    <tr style=\"text-align: right;\">\n",
       "      <th></th>\n",
       "      <th>index</th>\n",
       "      <th>true_Action</th>\n",
       "      <th>true_Adventure</th>\n",
       "      <th>true_Animated</th>\n",
       "      <th>true_Comedy</th>\n",
       "      <th>true_Documentary</th>\n",
       "      <th>true_Drama</th>\n",
       "      <th>true_Family</th>\n",
       "      <th>true_Fantasy</th>\n",
       "      <th>true_Horror</th>\n",
       "      <th>...</th>\n",
       "      <th>pred_Mystery</th>\n",
       "      <th>pred_Romance</th>\n",
       "      <th>pred_Science Fiction</th>\n",
       "      <th>pred_Teen</th>\n",
       "      <th>pred_Thriller</th>\n",
       "      <th>pred_Western</th>\n",
       "      <th>pred_World Cinema</th>\n",
       "      <th>accuracy</th>\n",
       "      <th>plot_len</th>\n",
       "      <th>num_genres</th>\n",
       "    </tr>\n",
       "  </thead>\n",
       "  <tbody>\n",
       "    <tr>\n",
       "      <th>count</th>\n",
       "      <td>6.600000e+01</td>\n",
       "      <td>66.000000</td>\n",
       "      <td>66.000000</td>\n",
       "      <td>66.000000</td>\n",
       "      <td>66.000000</td>\n",
       "      <td>66.000000</td>\n",
       "      <td>66.000000</td>\n",
       "      <td>66.000000</td>\n",
       "      <td>66.000000</td>\n",
       "      <td>66.000000</td>\n",
       "      <td>...</td>\n",
       "      <td>66.000000</td>\n",
       "      <td>66.000000</td>\n",
       "      <td>66.000000</td>\n",
       "      <td>66.0</td>\n",
       "      <td>66.000000</td>\n",
       "      <td>66.000000</td>\n",
       "      <td>66.000000</td>\n",
       "      <td>66.0</td>\n",
       "      <td>66.000000</td>\n",
       "      <td>66.000000</td>\n",
       "    </tr>\n",
       "    <tr>\n",
       "      <th>mean</th>\n",
       "      <td>1.987777e+07</td>\n",
       "      <td>0.181818</td>\n",
       "      <td>0.075758</td>\n",
       "      <td>0.030303</td>\n",
       "      <td>0.106061</td>\n",
       "      <td>0.090909</td>\n",
       "      <td>0.242424</td>\n",
       "      <td>0.045455</td>\n",
       "      <td>0.090909</td>\n",
       "      <td>0.181818</td>\n",
       "      <td>...</td>\n",
       "      <td>0.257576</td>\n",
       "      <td>0.272727</td>\n",
       "      <td>0.136364</td>\n",
       "      <td>0.0</td>\n",
       "      <td>0.560606</td>\n",
       "      <td>0.015152</td>\n",
       "      <td>0.136364</td>\n",
       "      <td>0.0</td>\n",
       "      <td>168.242424</td>\n",
       "      <td>1.500000</td>\n",
       "    </tr>\n",
       "    <tr>\n",
       "      <th>std</th>\n",
       "      <td>1.187755e+07</td>\n",
       "      <td>0.388650</td>\n",
       "      <td>0.266638</td>\n",
       "      <td>0.172733</td>\n",
       "      <td>0.310275</td>\n",
       "      <td>0.289683</td>\n",
       "      <td>0.431834</td>\n",
       "      <td>0.209895</td>\n",
       "      <td>0.289683</td>\n",
       "      <td>0.388650</td>\n",
       "      <td>...</td>\n",
       "      <td>0.440650</td>\n",
       "      <td>0.448775</td>\n",
       "      <td>0.345804</td>\n",
       "      <td>0.0</td>\n",
       "      <td>0.500117</td>\n",
       "      <td>0.123091</td>\n",
       "      <td>0.345804</td>\n",
       "      <td>0.0</td>\n",
       "      <td>205.388941</td>\n",
       "      <td>0.827415</td>\n",
       "    </tr>\n",
       "    <tr>\n",
       "      <th>min</th>\n",
       "      <td>4.271730e+05</td>\n",
       "      <td>0.000000</td>\n",
       "      <td>0.000000</td>\n",
       "      <td>0.000000</td>\n",
       "      <td>0.000000</td>\n",
       "      <td>0.000000</td>\n",
       "      <td>0.000000</td>\n",
       "      <td>0.000000</td>\n",
       "      <td>0.000000</td>\n",
       "      <td>0.000000</td>\n",
       "      <td>...</td>\n",
       "      <td>0.000000</td>\n",
       "      <td>0.000000</td>\n",
       "      <td>0.000000</td>\n",
       "      <td>0.0</td>\n",
       "      <td>0.000000</td>\n",
       "      <td>0.000000</td>\n",
       "      <td>0.000000</td>\n",
       "      <td>0.0</td>\n",
       "      <td>18.000000</td>\n",
       "      <td>1.000000</td>\n",
       "    </tr>\n",
       "    <tr>\n",
       "      <th>25%</th>\n",
       "      <td>8.355630e+06</td>\n",
       "      <td>0.000000</td>\n",
       "      <td>0.000000</td>\n",
       "      <td>0.000000</td>\n",
       "      <td>0.000000</td>\n",
       "      <td>0.000000</td>\n",
       "      <td>0.000000</td>\n",
       "      <td>0.000000</td>\n",
       "      <td>0.000000</td>\n",
       "      <td>0.000000</td>\n",
       "      <td>...</td>\n",
       "      <td>0.000000</td>\n",
       "      <td>0.000000</td>\n",
       "      <td>0.000000</td>\n",
       "      <td>0.0</td>\n",
       "      <td>0.000000</td>\n",
       "      <td>0.000000</td>\n",
       "      <td>0.000000</td>\n",
       "      <td>0.0</td>\n",
       "      <td>50.750000</td>\n",
       "      <td>1.000000</td>\n",
       "    </tr>\n",
       "    <tr>\n",
       "      <th>50%</th>\n",
       "      <td>2.232744e+07</td>\n",
       "      <td>0.000000</td>\n",
       "      <td>0.000000</td>\n",
       "      <td>0.000000</td>\n",
       "      <td>0.000000</td>\n",
       "      <td>0.000000</td>\n",
       "      <td>0.000000</td>\n",
       "      <td>0.000000</td>\n",
       "      <td>0.000000</td>\n",
       "      <td>0.000000</td>\n",
       "      <td>...</td>\n",
       "      <td>0.000000</td>\n",
       "      <td>0.000000</td>\n",
       "      <td>0.000000</td>\n",
       "      <td>0.0</td>\n",
       "      <td>1.000000</td>\n",
       "      <td>0.000000</td>\n",
       "      <td>0.000000</td>\n",
       "      <td>0.0</td>\n",
       "      <td>106.500000</td>\n",
       "      <td>1.000000</td>\n",
       "    </tr>\n",
       "    <tr>\n",
       "      <th>75%</th>\n",
       "      <td>2.895064e+07</td>\n",
       "      <td>0.000000</td>\n",
       "      <td>0.000000</td>\n",
       "      <td>0.000000</td>\n",
       "      <td>0.000000</td>\n",
       "      <td>0.000000</td>\n",
       "      <td>0.000000</td>\n",
       "      <td>0.000000</td>\n",
       "      <td>0.000000</td>\n",
       "      <td>0.000000</td>\n",
       "      <td>...</td>\n",
       "      <td>0.750000</td>\n",
       "      <td>1.000000</td>\n",
       "      <td>0.000000</td>\n",
       "      <td>0.0</td>\n",
       "      <td>1.000000</td>\n",
       "      <td>0.000000</td>\n",
       "      <td>0.000000</td>\n",
       "      <td>0.0</td>\n",
       "      <td>185.750000</td>\n",
       "      <td>2.000000</td>\n",
       "    </tr>\n",
       "    <tr>\n",
       "      <th>max</th>\n",
       "      <td>3.647473e+07</td>\n",
       "      <td>1.000000</td>\n",
       "      <td>1.000000</td>\n",
       "      <td>1.000000</td>\n",
       "      <td>1.000000</td>\n",
       "      <td>1.000000</td>\n",
       "      <td>1.000000</td>\n",
       "      <td>1.000000</td>\n",
       "      <td>1.000000</td>\n",
       "      <td>1.000000</td>\n",
       "      <td>...</td>\n",
       "      <td>1.000000</td>\n",
       "      <td>1.000000</td>\n",
       "      <td>1.000000</td>\n",
       "      <td>0.0</td>\n",
       "      <td>1.000000</td>\n",
       "      <td>1.000000</td>\n",
       "      <td>1.000000</td>\n",
       "      <td>0.0</td>\n",
       "      <td>1332.000000</td>\n",
       "      <td>4.000000</td>\n",
       "    </tr>\n",
       "  </tbody>\n",
       "</table>\n",
       "<p>8 rows × 40 columns</p>\n",
       "</div>"
      ],
      "text/plain": [
       "              index  true_Action  true_Adventure  true_Animated  true_Comedy  \\\n",
       "count  6.600000e+01    66.000000       66.000000      66.000000    66.000000   \n",
       "mean   1.987777e+07     0.181818        0.075758       0.030303     0.106061   \n",
       "std    1.187755e+07     0.388650        0.266638       0.172733     0.310275   \n",
       "min    4.271730e+05     0.000000        0.000000       0.000000     0.000000   \n",
       "25%    8.355630e+06     0.000000        0.000000       0.000000     0.000000   \n",
       "50%    2.232744e+07     0.000000        0.000000       0.000000     0.000000   \n",
       "75%    2.895064e+07     0.000000        0.000000       0.000000     0.000000   \n",
       "max    3.647473e+07     1.000000        1.000000       1.000000     1.000000   \n",
       "\n",
       "       true_Documentary  true_Drama  true_Family  true_Fantasy  true_Horror  \\\n",
       "count         66.000000   66.000000    66.000000     66.000000    66.000000   \n",
       "mean           0.090909    0.242424     0.045455      0.090909     0.181818   \n",
       "std            0.289683    0.431834     0.209895      0.289683     0.388650   \n",
       "min            0.000000    0.000000     0.000000      0.000000     0.000000   \n",
       "25%            0.000000    0.000000     0.000000      0.000000     0.000000   \n",
       "50%            0.000000    0.000000     0.000000      0.000000     0.000000   \n",
       "75%            0.000000    0.000000     0.000000      0.000000     0.000000   \n",
       "max            1.000000    1.000000     1.000000      1.000000     1.000000   \n",
       "\n",
       "          ...      pred_Mystery  pred_Romance  pred_Science Fiction  \\\n",
       "count     ...         66.000000     66.000000             66.000000   \n",
       "mean      ...          0.257576      0.272727              0.136364   \n",
       "std       ...          0.440650      0.448775              0.345804   \n",
       "min       ...          0.000000      0.000000              0.000000   \n",
       "25%       ...          0.000000      0.000000              0.000000   \n",
       "50%       ...          0.000000      0.000000              0.000000   \n",
       "75%       ...          0.750000      1.000000              0.000000   \n",
       "max       ...          1.000000      1.000000              1.000000   \n",
       "\n",
       "       pred_Teen  pred_Thriller  pred_Western  pred_World Cinema  accuracy  \\\n",
       "count       66.0      66.000000     66.000000          66.000000      66.0   \n",
       "mean         0.0       0.560606      0.015152           0.136364       0.0   \n",
       "std          0.0       0.500117      0.123091           0.345804       0.0   \n",
       "min          0.0       0.000000      0.000000           0.000000       0.0   \n",
       "25%          0.0       0.000000      0.000000           0.000000       0.0   \n",
       "50%          0.0       1.000000      0.000000           0.000000       0.0   \n",
       "75%          0.0       1.000000      0.000000           0.000000       0.0   \n",
       "max          0.0       1.000000      1.000000           1.000000       0.0   \n",
       "\n",
       "          plot_len  num_genres  \n",
       "count    66.000000   66.000000  \n",
       "mean    168.242424    1.500000  \n",
       "std     205.388941    0.827415  \n",
       "min      18.000000    1.000000  \n",
       "25%      50.750000    1.000000  \n",
       "50%     106.500000    1.000000  \n",
       "75%     185.750000    2.000000  \n",
       "max    1332.000000    4.000000  \n",
       "\n",
       "[8 rows x 40 columns]"
      ]
     },
     "execution_count": 93,
     "metadata": {},
     "output_type": "execute_result"
    }
   ],
   "source": [
    "bad_predictions.describe()"
   ]
  },
  {
   "cell_type": "code",
   "execution_count": 94,
   "metadata": {},
   "outputs": [
    {
     "data": {
      "text/html": [
       "<div>\n",
       "<style scoped>\n",
       "    .dataframe tbody tr th:only-of-type {\n",
       "        vertical-align: middle;\n",
       "    }\n",
       "\n",
       "    .dataframe tbody tr th {\n",
       "        vertical-align: top;\n",
       "    }\n",
       "\n",
       "    .dataframe thead th {\n",
       "        text-align: right;\n",
       "    }\n",
       "</style>\n",
       "<table border=\"1\" class=\"dataframe\">\n",
       "  <thead>\n",
       "    <tr style=\"text-align: right;\">\n",
       "      <th></th>\n",
       "      <th>index</th>\n",
       "      <th>plot_summary</th>\n",
       "      <th>assigned_genres</th>\n",
       "      <th>name</th>\n",
       "      <th>true_Action</th>\n",
       "      <th>true_Adventure</th>\n",
       "      <th>true_Animated</th>\n",
       "      <th>true_Comedy</th>\n",
       "      <th>true_Documentary</th>\n",
       "      <th>true_Drama</th>\n",
       "      <th>...</th>\n",
       "      <th>pred_Mystery</th>\n",
       "      <th>pred_Romance</th>\n",
       "      <th>pred_Science Fiction</th>\n",
       "      <th>pred_Teen</th>\n",
       "      <th>pred_Thriller</th>\n",
       "      <th>pred_Western</th>\n",
       "      <th>pred_World Cinema</th>\n",
       "      <th>accuracy</th>\n",
       "      <th>plot_len</th>\n",
       "      <th>num_genres</th>\n",
       "    </tr>\n",
       "  </thead>\n",
       "  <tbody>\n",
       "    <tr>\n",
       "      <th>302</th>\n",
       "      <td>11102452</td>\n",
       "      <td>down a dirti alleyway nnp the alley cat is sca...</td>\n",
       "      <td>[Animated, Family, Comedy, Indie]</td>\n",
       "      <td>Baby Butch</td>\n",
       "      <td>0</td>\n",
       "      <td>0</td>\n",
       "      <td>1</td>\n",
       "      <td>1</td>\n",
       "      <td>0</td>\n",
       "      <td>0</td>\n",
       "      <td>...</td>\n",
       "      <td>0</td>\n",
       "      <td>0</td>\n",
       "      <td>0</td>\n",
       "      <td>0</td>\n",
       "      <td>0</td>\n",
       "      <td>0</td>\n",
       "      <td>0</td>\n",
       "      <td>1.0</td>\n",
       "      <td>281</td>\n",
       "      <td>4</td>\n",
       "    </tr>\n",
       "    <tr>\n",
       "      <th>18315</th>\n",
       "      <td>3619129</td>\n",
       "      <td>nineyearold nnp nnp s mother ha abandon the fa...</td>\n",
       "      <td>[Drama, World Cinema, Family]</td>\n",
       "      <td>Evelyn</td>\n",
       "      <td>0</td>\n",
       "      <td>0</td>\n",
       "      <td>0</td>\n",
       "      <td>0</td>\n",
       "      <td>0</td>\n",
       "      <td>1</td>\n",
       "      <td>...</td>\n",
       "      <td>0</td>\n",
       "      <td>0</td>\n",
       "      <td>0</td>\n",
       "      <td>0</td>\n",
       "      <td>0</td>\n",
       "      <td>0</td>\n",
       "      <td>1</td>\n",
       "      <td>1.0</td>\n",
       "      <td>154</td>\n",
       "      <td>3</td>\n",
       "    </tr>\n",
       "    <tr>\n",
       "      <th>3121</th>\n",
       "      <td>34014280</td>\n",
       "      <td>nnp and her brother nnp and nnp are stuck in a...</td>\n",
       "      <td>[Science Fiction, Animated, Indie, Fantasy]</td>\n",
       "      <td>Kyousogiga</td>\n",
       "      <td>0</td>\n",
       "      <td>0</td>\n",
       "      <td>1</td>\n",
       "      <td>0</td>\n",
       "      <td>0</td>\n",
       "      <td>0</td>\n",
       "      <td>...</td>\n",
       "      <td>0</td>\n",
       "      <td>0</td>\n",
       "      <td>1</td>\n",
       "      <td>0</td>\n",
       "      <td>0</td>\n",
       "      <td>0</td>\n",
       "      <td>1</td>\n",
       "      <td>1.0</td>\n",
       "      <td>68</td>\n",
       "      <td>4</td>\n",
       "    </tr>\n",
       "  </tbody>\n",
       "</table>\n",
       "<p>3 rows × 43 columns</p>\n",
       "</div>"
      ],
      "text/plain": [
       "          index                                       plot_summary  \\\n",
       "302    11102452  down a dirti alleyway nnp the alley cat is sca...   \n",
       "18315   3619129  nineyearold nnp nnp s mother ha abandon the fa...   \n",
       "3121   34014280  nnp and her brother nnp and nnp are stuck in a...   \n",
       "\n",
       "                                   assigned_genres        name  true_Action  \\\n",
       "302              [Animated, Family, Comedy, Indie]  Baby Butch            0   \n",
       "18315                [Drama, World Cinema, Family]      Evelyn            0   \n",
       "3121   [Science Fiction, Animated, Indie, Fantasy]  Kyousogiga            0   \n",
       "\n",
       "       true_Adventure  true_Animated  true_Comedy  true_Documentary  \\\n",
       "302                 0              1            1                 0   \n",
       "18315               0              0            0                 0   \n",
       "3121                0              1            0                 0   \n",
       "\n",
       "       true_Drama     ...      pred_Mystery  pred_Romance  \\\n",
       "302             0     ...                 0             0   \n",
       "18315           1     ...                 0             0   \n",
       "3121            0     ...                 0             0   \n",
       "\n",
       "       pred_Science Fiction  pred_Teen  pred_Thriller  pred_Western  \\\n",
       "302                       0          0              0             0   \n",
       "18315                     0          0              0             0   \n",
       "3121                      1          0              0             0   \n",
       "\n",
       "       pred_World Cinema  accuracy  plot_len  num_genres  \n",
       "302                    0       1.0       281           4  \n",
       "18315                  1       1.0       154           3  \n",
       "3121                   1       1.0        68           4  \n",
       "\n",
       "[3 rows x 43 columns]"
      ]
     },
     "execution_count": 94,
     "metadata": {},
     "output_type": "execute_result"
    }
   ],
   "source": [
    "good_predictions.sample(3)"
   ]
  },
  {
   "cell_type": "code",
   "execution_count": 95,
   "metadata": {},
   "outputs": [
    {
     "data": {
      "text/html": [
       "<div>\n",
       "<style scoped>\n",
       "    .dataframe tbody tr th:only-of-type {\n",
       "        vertical-align: middle;\n",
       "    }\n",
       "\n",
       "    .dataframe tbody tr th {\n",
       "        vertical-align: top;\n",
       "    }\n",
       "\n",
       "    .dataframe thead th {\n",
       "        text-align: right;\n",
       "    }\n",
       "</style>\n",
       "<table border=\"1\" class=\"dataframe\">\n",
       "  <thead>\n",
       "    <tr style=\"text-align: right;\">\n",
       "      <th></th>\n",
       "      <th>index</th>\n",
       "      <th>plot_summary</th>\n",
       "      <th>assigned_genres</th>\n",
       "      <th>name</th>\n",
       "      <th>true_Action</th>\n",
       "      <th>true_Adventure</th>\n",
       "      <th>true_Animated</th>\n",
       "      <th>true_Comedy</th>\n",
       "      <th>true_Documentary</th>\n",
       "      <th>true_Drama</th>\n",
       "      <th>...</th>\n",
       "      <th>pred_Mystery</th>\n",
       "      <th>pred_Romance</th>\n",
       "      <th>pred_Science Fiction</th>\n",
       "      <th>pred_Teen</th>\n",
       "      <th>pred_Thriller</th>\n",
       "      <th>pred_Western</th>\n",
       "      <th>pred_World Cinema</th>\n",
       "      <th>accuracy</th>\n",
       "      <th>plot_len</th>\n",
       "      <th>num_genres</th>\n",
       "    </tr>\n",
       "  </thead>\n",
       "  <tbody>\n",
       "    <tr>\n",
       "      <th>39397</th>\n",
       "      <td>31820610</td>\n",
       "      <td>in the 19th centuri in nnp two girl name nnp n...</td>\n",
       "      <td>[Drama, World Cinema]</td>\n",
       "      <td>Snow Flower and the Secret Fan</td>\n",
       "      <td>0</td>\n",
       "      <td>0</td>\n",
       "      <td>0</td>\n",
       "      <td>0</td>\n",
       "      <td>0</td>\n",
       "      <td>1</td>\n",
       "      <td>...</td>\n",
       "      <td>0</td>\n",
       "      <td>1</td>\n",
       "      <td>0</td>\n",
       "      <td>0</td>\n",
       "      <td>0</td>\n",
       "      <td>0</td>\n",
       "      <td>0</td>\n",
       "      <td>0.0</td>\n",
       "      <td>185</td>\n",
       "      <td>2</td>\n",
       "    </tr>\n",
       "    <tr>\n",
       "      <th>28827</th>\n",
       "      <td>35743450</td>\n",
       "      <td>nnp nnp nnp is arrest for critic wound hi wife...</td>\n",
       "      <td>[Western]</td>\n",
       "      <td>Valerie</td>\n",
       "      <td>0</td>\n",
       "      <td>0</td>\n",
       "      <td>0</td>\n",
       "      <td>0</td>\n",
       "      <td>0</td>\n",
       "      <td>0</td>\n",
       "      <td>...</td>\n",
       "      <td>0</td>\n",
       "      <td>0</td>\n",
       "      <td>0</td>\n",
       "      <td>0</td>\n",
       "      <td>1</td>\n",
       "      <td>0</td>\n",
       "      <td>0</td>\n",
       "      <td>0.0</td>\n",
       "      <td>27</td>\n",
       "      <td>1</td>\n",
       "    </tr>\n",
       "    <tr>\n",
       "      <th>14928</th>\n",
       "      <td>33403102</td>\n",
       "      <td>a man befriend a puppi of about 3 month old th...</td>\n",
       "      <td>[Thriller, Horror, Science Fiction]</td>\n",
       "      <td>Atomic Dog</td>\n",
       "      <td>0</td>\n",
       "      <td>0</td>\n",
       "      <td>0</td>\n",
       "      <td>0</td>\n",
       "      <td>0</td>\n",
       "      <td>0</td>\n",
       "      <td>...</td>\n",
       "      <td>0</td>\n",
       "      <td>0</td>\n",
       "      <td>0</td>\n",
       "      <td>0</td>\n",
       "      <td>0</td>\n",
       "      <td>0</td>\n",
       "      <td>1</td>\n",
       "      <td>0.0</td>\n",
       "      <td>115</td>\n",
       "      <td>3</td>\n",
       "    </tr>\n",
       "  </tbody>\n",
       "</table>\n",
       "<p>3 rows × 43 columns</p>\n",
       "</div>"
      ],
      "text/plain": [
       "          index                                       plot_summary  \\\n",
       "39397  31820610  in the 19th centuri in nnp two girl name nnp n...   \n",
       "28827  35743450  nnp nnp nnp is arrest for critic wound hi wife...   \n",
       "14928  33403102  a man befriend a puppi of about 3 month old th...   \n",
       "\n",
       "                           assigned_genres                            name  \\\n",
       "39397                [Drama, World Cinema]  Snow Flower and the Secret Fan   \n",
       "28827                            [Western]                         Valerie   \n",
       "14928  [Thriller, Horror, Science Fiction]                      Atomic Dog   \n",
       "\n",
       "       true_Action  true_Adventure  true_Animated  true_Comedy  \\\n",
       "39397            0               0              0            0   \n",
       "28827            0               0              0            0   \n",
       "14928            0               0              0            0   \n",
       "\n",
       "       true_Documentary  true_Drama     ...      pred_Mystery  pred_Romance  \\\n",
       "39397                 0           1     ...                 0             1   \n",
       "28827                 0           0     ...                 0             0   \n",
       "14928                 0           0     ...                 0             0   \n",
       "\n",
       "       pred_Science Fiction  pred_Teen  pred_Thriller  pred_Western  \\\n",
       "39397                     0          0              0             0   \n",
       "28827                     0          0              1             0   \n",
       "14928                     0          0              0             0   \n",
       "\n",
       "       pred_World Cinema  accuracy  plot_len  num_genres  \n",
       "39397                  0       0.0       185           2  \n",
       "28827                  0       0.0        27           1  \n",
       "14928                  1       0.0       115           3  \n",
       "\n",
       "[3 rows x 43 columns]"
      ]
     },
     "execution_count": 95,
     "metadata": {},
     "output_type": "execute_result"
    }
   ],
   "source": [
    "bad_predictions.sample(3)"
   ]
  },
  {
   "cell_type": "code",
   "execution_count": 96,
   "metadata": {},
   "outputs": [
    {
     "data": {
      "text/html": [
       "<div>\n",
       "<style scoped>\n",
       "    .dataframe tbody tr th:only-of-type {\n",
       "        vertical-align: middle;\n",
       "    }\n",
       "\n",
       "    .dataframe tbody tr th {\n",
       "        vertical-align: top;\n",
       "    }\n",
       "\n",
       "    .dataframe thead th {\n",
       "        text-align: right;\n",
       "    }\n",
       "</style>\n",
       "<table border=\"1\" class=\"dataframe\">\n",
       "  <thead>\n",
       "    <tr style=\"text-align: right;\">\n",
       "      <th></th>\n",
       "      <th>index</th>\n",
       "      <th>plot_summary</th>\n",
       "      <th>assigned_genres</th>\n",
       "      <th>name</th>\n",
       "      <th>true_Action</th>\n",
       "      <th>true_Adventure</th>\n",
       "      <th>true_Animated</th>\n",
       "      <th>true_Comedy</th>\n",
       "      <th>true_Documentary</th>\n",
       "      <th>true_Drama</th>\n",
       "      <th>...</th>\n",
       "      <th>pred_Mystery</th>\n",
       "      <th>pred_Romance</th>\n",
       "      <th>pred_Science Fiction</th>\n",
       "      <th>pred_Teen</th>\n",
       "      <th>pred_Thriller</th>\n",
       "      <th>pred_Western</th>\n",
       "      <th>pred_World Cinema</th>\n",
       "      <th>accuracy</th>\n",
       "      <th>plot_len</th>\n",
       "      <th>num_genres</th>\n",
       "    </tr>\n",
       "  </thead>\n",
       "  <tbody>\n",
       "    <tr>\n",
       "      <th>22499</th>\n",
       "      <td>30007</td>\n",
       "      <td>nnp programm nnp nnp is secretli a hacker know...</td>\n",
       "      <td>[Thriller, Action, Science Fiction, Adventure]</td>\n",
       "      <td>The Matrix</td>\n",
       "      <td>1</td>\n",
       "      <td>1</td>\n",
       "      <td>0</td>\n",
       "      <td>0</td>\n",
       "      <td>0</td>\n",
       "      <td>0</td>\n",
       "      <td>...</td>\n",
       "      <td>0</td>\n",
       "      <td>0</td>\n",
       "      <td>1</td>\n",
       "      <td>0</td>\n",
       "      <td>1</td>\n",
       "      <td>0</td>\n",
       "      <td>0</td>\n",
       "      <td>1.0</td>\n",
       "      <td>700</td>\n",
       "      <td>4</td>\n",
       "    </tr>\n",
       "  </tbody>\n",
       "</table>\n",
       "<p>1 rows × 43 columns</p>\n",
       "</div>"
      ],
      "text/plain": [
       "       index                                       plot_summary  \\\n",
       "22499  30007  nnp programm nnp nnp is secretli a hacker know...   \n",
       "\n",
       "                                      assigned_genres        name  \\\n",
       "22499  [Thriller, Action, Science Fiction, Adventure]  The Matrix   \n",
       "\n",
       "       true_Action  true_Adventure  true_Animated  true_Comedy  \\\n",
       "22499            1               1              0            0   \n",
       "\n",
       "       true_Documentary  true_Drama     ...      pred_Mystery  pred_Romance  \\\n",
       "22499                 0           0     ...                 0             0   \n",
       "\n",
       "       pred_Science Fiction  pred_Teen  pred_Thriller  pred_Western  \\\n",
       "22499                     1          0              1             0   \n",
       "\n",
       "       pred_World Cinema  accuracy  plot_len  num_genres  \n",
       "22499                  0       1.0       700           4  \n",
       "\n",
       "[1 rows x 43 columns]"
      ]
     },
     "execution_count": 96,
     "metadata": {},
     "output_type": "execute_result"
    }
   ],
   "source": [
    "movies_df[movies_df['name']==\"The Matrix\"]"
   ]
  },
  {
   "cell_type": "code",
   "execution_count": 97,
   "metadata": {},
   "outputs": [
    {
     "data": {
      "text/plain": [
       "index                                                               68485\n",
       "plot_summary            nnp nnp nnp nnp of nnp ha creat nnp nnp a them...\n",
       "assigned_genres         [Thriller, Science Fiction, Action, Adventure,...\n",
       "name                                                        Jurassic Park\n",
       "true_Action                                                             1\n",
       "true_Adventure                                                          1\n",
       "true_Animated                                                           0\n",
       "true_Comedy                                                             0\n",
       "true_Documentary                                                        0\n",
       "true_Drama                                                              0\n",
       "true_Family                                                             0\n",
       "true_Fantasy                                                            0\n",
       "true_Horror                                                             1\n",
       "true_Indie                                                              0\n",
       "true_Musical                                                            0\n",
       "true_Mystery                                                            0\n",
       "true_Romance                                                            0\n",
       "true_Science Fiction                                                    1\n",
       "true_Teen                                                               0\n",
       "true_Thriller                                                           1\n",
       "true_Western                                                            0\n",
       "true_World Cinema                                                       0\n",
       "pred_Action                                                             1\n",
       "pred_Adventure                                                          1\n",
       "pred_Animated                                                           1\n",
       "pred_Comedy                                                             0\n",
       "pred_Documentary                                                        0\n",
       "pred_Drama                                                              0\n",
       "pred_Family                                                             1\n",
       "pred_Fantasy                                                            1\n",
       "pred_Horror                                                             1\n",
       "pred_Indie                                                              0\n",
       "pred_Musical                                                            0\n",
       "pred_Mystery                                                            0\n",
       "pred_Romance                                                            0\n",
       "pred_Science Fiction                                                    1\n",
       "pred_Teen                                                               0\n",
       "pred_Thriller                                                           1\n",
       "pred_Western                                                            0\n",
       "pred_World Cinema                                                       0\n",
       "accuracy                                                              0.4\n",
       "plot_len                                                              832\n",
       "num_genres                                                              5\n",
       "Name: 29781, dtype: object"
      ]
     },
     "execution_count": 97,
     "metadata": {},
     "output_type": "execute_result"
    }
   ],
   "source": [
    "movies_df.loc[29781]"
   ]
  },
  {
   "cell_type": "code",
   "execution_count": 107,
   "metadata": {},
   "outputs": [
    {
     "data": {
      "image/png": "[encoded data removed]",
      "text/plain": [
       "<Figure size 432x288 with 1 Axes>"
      ]
     },
     "metadata": {},
     "output_type": "display_data"
    }
   ],
   "source": [
    "results = []\n",
    "for genre in labels:\n",
    "    results.append({\n",
    "        \"genre\":genre,\n",
    "        \"avg_accuracy\":movies_df[movies_df['true_'+genre]==1].accuracy.mean()\n",
    "    })\n",
    "results = pd.DataFrame(results).sort_values(\"avg_accuracy\", ascending=False)\n",
    "\n",
    "fig, ax = plt.subplots()\n",
    "fig.set_size_inches(6,4)\n",
    "g = sns.barplot(x=results.avg_accuracy, y=results.genre, ax=ax, palette=\"Reds_r\")\n",
    "g.set_title(\"Average Accuracy By Presence of Genre Label\")\n",
    "g.set_xlabel(\"Accuracy\")\n",
    "plt.savefig(\"results_by_genre.png\", bbox_inches='tight')"
   ]
  },
  {
   "cell_type": "code",
   "execution_count": 108,
   "metadata": {},
   "outputs": [
    {
     "data": {
      "image/png": "[encoded data removed]",
      "text/plain": [
       "<Figure size 432x288 with 1 Axes>"
      ]
     },
     "metadata": {},
     "output_type": "display_data"
    }
   ],
   "source": [
    "results = []\n",
    "for x in range(50,1000,5):\n",
    "    results.append({\n",
    "        \"plot_len\":x,\n",
    "        \"avg_accuracy\":movies_df[(movies_df['plot_len'] > x-30) & (movies_df['plot_len'] <= x)].accuracy.mean()\n",
    "    })\n",
    "results = pd.DataFrame(results)\n",
    "\n",
    "fig, ax = plt.subplots()\n",
    "fig.set_size_inches(6,4)\n",
    "g = sns.lineplot(x=results.plot_len, y=results.avg_accuracy, ax=ax)\n",
    "g.set_title(\"Average Accuracy By Plot Length\")\n",
    "g.set_xlabel(\"Plot Length in Words\")\n",
    "g.set_ylabel(\"Average Accuracy\")\n",
    "plt.savefig(\"results_by_plot_len.png\", bbox_inches='tight')"
   ]
  },
  {
   "cell_type": "code",
   "execution_count": null,
   "metadata": {},
   "outputs": [],
   "source": []
  }
 ],
 "metadata": {
  "kernelspec": {
   "display_name": "Python 3",
   "language": "python",
   "name": "python3"
  },
  "language_info": {
   "codemirror_mode": {
    "name": "ipython",
    "version": 3
   },
   "file_extension": ".py",
   "mimetype": "text/x-python",
   "name": "python",
   "nbconvert_exporter": "python",
   "pygments_lexer": "ipython3",
   "version": "3.6.5"
  }
 },
 "nbformat": 4,
 "nbformat_minor": 2
}
